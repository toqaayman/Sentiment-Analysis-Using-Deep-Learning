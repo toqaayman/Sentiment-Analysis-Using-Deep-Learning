{
 "cells": [
  {
   "cell_type": "markdown",
   "metadata": {
    "id": "FbVhjPpzn6BM"
   },
   "source": [
    "**Importing Packages**\n",
    "\n",
    "Python packages enable different functions, providing easy ways of manipulating data and building models. As a first step, we 'import' packages to set up our environment in a way that allows us to take advantage of different capabilities.\n",
    "\n",
    "Import the necessary libraries."
   ]
  },
  {
   "cell_type": "code",
   "execution_count": null,
   "metadata": {
    "id": "ntpSTPggNCTY",
    "outputId": "c67b7186-91f4-467e-ad86-443acbe9482e"
   },
   "outputs": [
    {
     "name": "stdout",
     "output_type": "stream",
     "text": [
      "Python 3.11.5\n"
     ]
    }
   ],
   "source": [
    "!python --version"
   ]
  },
  {
   "cell_type": "code",
   "execution_count": 1,
   "metadata": {
    "colab": {
     "base_uri": "https://localhost:8080/",
     "height": 0
    },
    "id": "dzLKpmZICaWN",
    "outputId": "15f1db77-c231-46cf-94ef-bb79778a93d2"
   },
   "outputs": [
    {
     "name": "stderr",
     "output_type": "stream",
     "text": [
      "[nltk_data] Downloading package punkt to /root/nltk_data...\n",
      "[nltk_data]   Unzipping tokenizers/punkt.zip.\n"
     ]
    }
   ],
   "source": [
    "import pandas as pd\n",
    "import numpy as np\n",
    "from tqdm.auto import tqdm\n",
    "from nltk.tokenize import word_tokenize\n",
    "import nltk\n",
    "nltk.download('punkt')\n",
    "\n",
    "import tensorflow as tf\n",
    "from tensorflow.keras import layers\n",
    "\n",
    "\n",
    "from tensorflow.keras.layers import LSTM, Bidirectional, Dense, Dropout, Embedding\n",
    "from tensorflow.keras.models import Sequential\n",
    "\n",
    "\n",
    "from sklearn.model_selection import train_test_split\n",
    "from sklearn.metrics import confusion_matrix\n",
    "import matplotlib.pyplot as plt\n",
    "import seaborn as sns\n"
   ]
  },
  {
   "cell_type": "code",
   "execution_count": 2,
   "metadata": {
    "id": "46w1YbUfoNjP"
   },
   "outputs": [],
   "source": [
    "# Setting Random Seed to Control Random Start Value for Easier Model Performance Comparison\n",
    "seed_value = 100\n",
    "\n",
    "################### also add this one to make sure the consistent.\n",
    "tf.random.set_seed(seed_value)\n",
    "###################\n",
    "\n",
    "tf.keras.utils.set_random_seed(seed_value)\n",
    "tf.config.experimental.enable_op_determinism()"
   ]
  },
  {
   "cell_type": "markdown",
   "metadata": {
    "id": "NOzUy-qGw-SR"
   },
   "source": [
    "Now we will set our path for Google Drive in order to read dataset via Google Drive."
   ]
  },
  {
   "cell_type": "code",
   "execution_count": 3,
   "metadata": {
    "colab": {
     "base_uri": "https://localhost:8080/",
     "height": 0
    },
    "id": "IrVZcVROw0An",
    "outputId": "941b7ecc-257e-4c48-e763-205326b814ba"
   },
   "outputs": [
    {
     "name": "stdout",
     "output_type": "stream",
     "text": [
      "Mounted at /content/drive\n"
     ]
    }
   ],
   "source": [
    "## Mount Google Drive Data (If using Google Colaboratory)\n",
    "try:\n",
    "    from google.colab import drive\n",
    "    drive.mount('/content/drive')\n",
    "except:\n",
    "    print(\"Mounting Failed.\")"
   ]
  },
  {
   "cell_type": "code",
   "execution_count": 5,
   "metadata": {
    "colab": {
     "base_uri": "https://localhost:8080/",
     "height": 49,
     "referenced_widgets": [
      "3033da34515e4e7fb614ca43b3b603eb",
      "7f3232af834041ae87cc47fd60e3d78d",
      "813c11218662443790a3a7bd97f429ec",
      "fe03473f87bc4284ac630fd8dea800da",
      "c21f0de8b1294d5abd682791b6e0b851",
      "134b467561fe4051b76b03f525f028f1",
      "46111831c90e4f6da0fd1cffa80ff193",
      "0147e1cfd7384b64926acae6b305bd28",
      "2b415a3d5be347a6b80f3b773ebf60e3",
      "67c7b93710894017831f131d3f7f0a57",
      "4550254b59f8429cbecef7b9a1fa1834"
     ]
    },
    "id": "p7_4dqgfO88C",
    "outputId": "c93887b9-56a3-4285-ee53-1edf854b7446"
   },
   "outputs": [
    {
     "data": {
      "application/vnd.jupyter.widget-view+json": {
       "model_id": "3033da34515e4e7fb614ca43b3b603eb",
       "version_major": 2,
       "version_minor": 0
      },
      "text/plain": [
       "  0%|          | 0/400000 [00:00<?, ?it/s]"
      ]
     },
     "metadata": {},
     "output_type": "display_data"
    }
   ],
   "source": [
    "words = []\n",
    "embeddings = []\n",
    "\n",
    "with open('/content/drive/MyDrive/BDML/glove.6B.100d.txt', 'r') as f:\n",
    "    for line in tqdm(f, total=400_000):\n",
    "        word, *vector = line.split()\n",
    "        words.append(word)\n",
    "        embeddings.append(vector)"
   ]
  },
  {
   "cell_type": "code",
   "execution_count": 6,
   "metadata": {
    "colab": {
     "base_uri": "https://localhost:8080/",
     "height": 35
    },
    "id": "5-fZY8-zhKS2",
    "outputId": "42decf17-5bc5-4507-a42a-08542b4c48d2"
   },
   "outputs": [
    {
     "data": {
      "application/vnd.google.colaboratory.intrinsic+json": {
       "type": "string"
      },
      "text/plain": [
       "'the'"
      ]
     },
     "execution_count": 6,
     "metadata": {},
     "output_type": "execute_result"
    }
   ],
   "source": [
    "words[0]"
   ]
  },
  {
   "cell_type": "code",
   "execution_count": 7,
   "metadata": {
    "colab": {
     "base_uri": "https://localhost:8080/",
     "height": 0
    },
    "id": "SPExYDf_hMN2",
    "outputId": "c75dfca4-3331-467d-b972-340391d3382e"
   },
   "outputs": [
    {
     "data": {
      "text/plain": [
       "['-0.038194',\n",
       " '-0.24487',\n",
       " '0.72812',\n",
       " '-0.39961',\n",
       " '0.083172',\n",
       " '0.043953',\n",
       " '-0.39141',\n",
       " '0.3344',\n",
       " '-0.57545',\n",
       " '0.087459',\n",
       " '0.28787',\n",
       " '-0.06731',\n",
       " '0.30906',\n",
       " '-0.26384',\n",
       " '-0.13231',\n",
       " '-0.20757',\n",
       " '0.33395',\n",
       " '-0.33848',\n",
       " '-0.31743',\n",
       " '-0.48336',\n",
       " '0.1464',\n",
       " '-0.37304',\n",
       " '0.34577',\n",
       " '0.052041',\n",
       " '0.44946',\n",
       " '-0.46971',\n",
       " '0.02628',\n",
       " '-0.54155',\n",
       " '-0.15518',\n",
       " '-0.14107',\n",
       " '-0.039722',\n",
       " '0.28277',\n",
       " '0.14393',\n",
       " '0.23464',\n",
       " '-0.31021',\n",
       " '0.086173',\n",
       " '0.20397',\n",
       " '0.52624',\n",
       " '0.17164',\n",
       " '-0.082378',\n",
       " '-0.71787',\n",
       " '-0.41531',\n",
       " '0.20335',\n",
       " '-0.12763',\n",
       " '0.41367',\n",
       " '0.55187',\n",
       " '0.57908',\n",
       " '-0.33477',\n",
       " '-0.36559',\n",
       " '-0.54857',\n",
       " '-0.062892',\n",
       " '0.26584',\n",
       " '0.30205',\n",
       " '0.99775',\n",
       " '-0.80481',\n",
       " '-3.0243',\n",
       " '0.01254',\n",
       " '-0.36942',\n",
       " '2.2167',\n",
       " '0.72201',\n",
       " '-0.24978',\n",
       " '0.92136',\n",
       " '0.034514',\n",
       " '0.46745',\n",
       " '1.1079',\n",
       " '-0.19358',\n",
       " '-0.074575',\n",
       " '0.23353',\n",
       " '-0.052062',\n",
       " '-0.22044',\n",
       " '0.057162',\n",
       " '-0.15806',\n",
       " '-0.30798',\n",
       " '-0.41625',\n",
       " '0.37972',\n",
       " '0.15006',\n",
       " '-0.53212',\n",
       " '-0.2055',\n",
       " '-1.2526',\n",
       " '0.071624',\n",
       " '0.70565',\n",
       " '0.49744',\n",
       " '-0.42063',\n",
       " '0.26148',\n",
       " '-1.538',\n",
       " '-0.30223',\n",
       " '-0.073438',\n",
       " '-0.28312',\n",
       " '0.37104',\n",
       " '-0.25217',\n",
       " '0.016215',\n",
       " '-0.017099',\n",
       " '-0.38984',\n",
       " '0.87424',\n",
       " '-0.72569',\n",
       " '-0.51058',\n",
       " '-0.52028',\n",
       " '-0.1459',\n",
       " '0.8278',\n",
       " '0.27062']"
      ]
     },
     "execution_count": 7,
     "metadata": {},
     "output_type": "execute_result"
    }
   ],
   "source": [
    "embeddings[0]"
   ]
  },
  {
   "cell_type": "code",
   "execution_count": 8,
   "metadata": {
    "colab": {
     "base_uri": "https://localhost:8080/",
     "height": 0
    },
    "id": "bUv4zvJXPRqh",
    "outputId": "b62ca1d0-a8e5-4878-abc3-73be79b4b320"
   },
   "outputs": [
    {
     "data": {
      "text/plain": [
       "(400000, 100)"
      ]
     },
     "execution_count": 8,
     "metadata": {},
     "output_type": "execute_result"
    }
   ],
   "source": [
    "embeddings = np.float32(np.array(embeddings))\n",
    "embeddings.shape"
   ]
  },
  {
   "cell_type": "code",
   "execution_count": 9,
   "metadata": {
    "id": "4jCFTsInPRww"
   },
   "outputs": [],
   "source": [
    "embeddings = np.concatenate([np.zeros((2, 100)),\n",
    "                            embeddings], axis=0)"
   ]
  },
  {
   "cell_type": "code",
   "execution_count": 10,
   "metadata": {
    "id": "dcP8OGJpPRy9"
   },
   "outputs": [],
   "source": [
    "word2idx = {w: i+2 for i, w in enumerate(words)}\n",
    "idx2word = {i+2: w for i, w in enumerate(words)}\n",
    "\n",
    "word2idx['PAD'] = 0\n",
    "idx2word[0] = 'PAD'\n",
    "\n",
    "word2idx['OOV'] = 1\n",
    "idx2word[1] = 'OOV'"
   ]
  },
  {
   "cell_type": "code",
   "execution_count": 14,
   "metadata": {
    "colab": {
     "base_uri": "https://localhost:8080/",
     "height": 0
    },
    "id": "7MqDQO0KCaWS",
    "outputId": "07c3edf7-d378-4170-82df-03edbe2937d8"
   },
   "outputs": [
    {
     "name": "stdout",
     "output_type": "stream",
     "text": [
      "The GeoSolutions technology will leverage Benefon 's GPS solutions by providing Location Based Search Technology , a Communities Platform , location relevant multimedia content and a new and powerful commercial model .\n",
      "positive\n"
     ]
    }
   ],
   "source": [
    "df = pd.read_csv('/content/drive/MyDrive/BDML/news_data.csv')\n",
    "print(df.iloc[0,0])\n",
    "print(df.iloc[0,1])"
   ]
  },
  {
   "cell_type": "code",
   "execution_count": 15,
   "metadata": {
    "colab": {
     "base_uri": "https://localhost:8080/",
     "height": 0
    },
    "id": "-Iu_QO6iHEXu",
    "outputId": "ae2a8231-6880-45f3-9c5d-4b29d0aa2c1c"
   },
   "outputs": [
    {
     "data": {
      "text/plain": [
       "{'negative': 0, 'neutral': 1, 'positive': 2}"
      ]
     },
     "execution_count": 15,
     "metadata": {},
     "output_type": "execute_result"
    }
   ],
   "source": [
    "keys = np.unique(df.Sentiment)\n",
    "values = list(range(len(keys)))\n",
    "label_mapper = dict(zip(keys, values))\n",
    "label_mapper"
   ]
  },
  {
   "cell_type": "code",
   "execution_count": 16,
   "metadata": {
    "colab": {
     "base_uri": "https://localhost:8080/",
     "height": 206
    },
    "id": "2KFnYlcwCaWl",
    "outputId": "a3f9a426-28bc-4f3d-e99b-370341594314"
   },
   "outputs": [
    {
     "data": {
      "application/vnd.google.colaboratory.intrinsic+json": {
       "summary": "{\n  \"name\": \"df\",\n  \"rows\": 5842,\n  \"fields\": [\n    {\n      \"column\": \"Sentence\",\n      \"properties\": {\n        \"dtype\": \"string\",\n        \"num_unique_values\": 5322,\n        \"samples\": [\n          \"it is now the leading private road ambulance service company in finland .\",\n          \"finnish silicon wafers manufacturer okmetic oyj said it swung to a net profit of 4.9 mln euro $ 6.3 mln in the first nine months of 2006 from a net loss of 1.8 mln euro $ 2.3 mln a year earlier .\",\n          \"$gild  is expanding its research facilities...keeping up with the pace of innovation  https://t.co/uoe7fj4lop\"\n        ],\n        \"semantic_type\": \"\",\n        \"description\": \"\"\n      }\n    },\n    {\n      \"column\": \"Sentiment\",\n      \"properties\": {\n        \"dtype\": \"number\",\n        \"std\": 0,\n        \"min\": 0,\n        \"max\": 2,\n        \"num_unique_values\": 3,\n        \"samples\": [\n          2,\n          0,\n          1\n        ],\n        \"semantic_type\": \"\",\n        \"description\": \"\"\n      }\n    }\n  ]\n}",
       "type": "dataframe",
       "variable_name": "df"
      },
      "text/html": [
       "\n",
       "  <div id=\"df-3576c956-805c-46d3-bce1-cbc661167924\" class=\"colab-df-container\">\n",
       "    <div>\n",
       "<style scoped>\n",
       "    .dataframe tbody tr th:only-of-type {\n",
       "        vertical-align: middle;\n",
       "    }\n",
       "\n",
       "    .dataframe tbody tr th {\n",
       "        vertical-align: top;\n",
       "    }\n",
       "\n",
       "    .dataframe thead th {\n",
       "        text-align: right;\n",
       "    }\n",
       "</style>\n",
       "<table border=\"1\" class=\"dataframe\">\n",
       "  <thead>\n",
       "    <tr style=\"text-align: right;\">\n",
       "      <th></th>\n",
       "      <th>Sentence</th>\n",
       "      <th>Sentiment</th>\n",
       "    </tr>\n",
       "  </thead>\n",
       "  <tbody>\n",
       "    <tr>\n",
       "      <th>0</th>\n",
       "      <td>the geosolutions technology will leverage bene...</td>\n",
       "      <td>2</td>\n",
       "    </tr>\n",
       "    <tr>\n",
       "      <th>1</th>\n",
       "      <td>$esi on lows, down $1.50 to $2.50 bk a real po...</td>\n",
       "      <td>0</td>\n",
       "    </tr>\n",
       "    <tr>\n",
       "      <th>2</th>\n",
       "      <td>for the last quarter of 2010 , componenta 's n...</td>\n",
       "      <td>2</td>\n",
       "    </tr>\n",
       "    <tr>\n",
       "      <th>3</th>\n",
       "      <td>according to the finnish-russian chamber of co...</td>\n",
       "      <td>1</td>\n",
       "    </tr>\n",
       "    <tr>\n",
       "      <th>4</th>\n",
       "      <td>the swedish buyout firm has sold its remaining...</td>\n",
       "      <td>1</td>\n",
       "    </tr>\n",
       "  </tbody>\n",
       "</table>\n",
       "</div>\n",
       "    <div class=\"colab-df-buttons\">\n",
       "\n",
       "  <div class=\"colab-df-container\">\n",
       "    <button class=\"colab-df-convert\" onclick=\"convertToInteractive('df-3576c956-805c-46d3-bce1-cbc661167924')\"\n",
       "            title=\"Convert this dataframe to an interactive table.\"\n",
       "            style=\"display:none;\">\n",
       "\n",
       "  <svg xmlns=\"http://www.w3.org/2000/svg\" height=\"24px\" viewBox=\"0 -960 960 960\">\n",
       "    <path d=\"M120-120v-720h720v720H120Zm60-500h600v-160H180v160Zm220 220h160v-160H400v160Zm0 220h160v-160H400v160ZM180-400h160v-160H180v160Zm440 0h160v-160H620v160ZM180-180h160v-160H180v160Zm440 0h160v-160H620v160Z\"/>\n",
       "  </svg>\n",
       "    </button>\n",
       "\n",
       "  <style>\n",
       "    .colab-df-container {\n",
       "      display:flex;\n",
       "      gap: 12px;\n",
       "    }\n",
       "\n",
       "    .colab-df-convert {\n",
       "      background-color: #E8F0FE;\n",
       "      border: none;\n",
       "      border-radius: 50%;\n",
       "      cursor: pointer;\n",
       "      display: none;\n",
       "      fill: #1967D2;\n",
       "      height: 32px;\n",
       "      padding: 0 0 0 0;\n",
       "      width: 32px;\n",
       "    }\n",
       "\n",
       "    .colab-df-convert:hover {\n",
       "      background-color: #E2EBFA;\n",
       "      box-shadow: 0px 1px 2px rgba(60, 64, 67, 0.3), 0px 1px 3px 1px rgba(60, 64, 67, 0.15);\n",
       "      fill: #174EA6;\n",
       "    }\n",
       "\n",
       "    .colab-df-buttons div {\n",
       "      margin-bottom: 4px;\n",
       "    }\n",
       "\n",
       "    [theme=dark] .colab-df-convert {\n",
       "      background-color: #3B4455;\n",
       "      fill: #D2E3FC;\n",
       "    }\n",
       "\n",
       "    [theme=dark] .colab-df-convert:hover {\n",
       "      background-color: #434B5C;\n",
       "      box-shadow: 0px 1px 3px 1px rgba(0, 0, 0, 0.15);\n",
       "      filter: drop-shadow(0px 1px 2px rgba(0, 0, 0, 0.3));\n",
       "      fill: #FFFFFF;\n",
       "    }\n",
       "  </style>\n",
       "\n",
       "    <script>\n",
       "      const buttonEl =\n",
       "        document.querySelector('#df-3576c956-805c-46d3-bce1-cbc661167924 button.colab-df-convert');\n",
       "      buttonEl.style.display =\n",
       "        google.colab.kernel.accessAllowed ? 'block' : 'none';\n",
       "\n",
       "      async function convertToInteractive(key) {\n",
       "        const element = document.querySelector('#df-3576c956-805c-46d3-bce1-cbc661167924');\n",
       "        const dataTable =\n",
       "          await google.colab.kernel.invokeFunction('convertToInteractive',\n",
       "                                                    [key], {});\n",
       "        if (!dataTable) return;\n",
       "\n",
       "        const docLinkHtml = 'Like what you see? Visit the ' +\n",
       "          '<a target=\"_blank\" href=https://colab.research.google.com/notebooks/data_table.ipynb>data table notebook</a>'\n",
       "          + ' to learn more about interactive tables.';\n",
       "        element.innerHTML = '';\n",
       "        dataTable['output_type'] = 'display_data';\n",
       "        await google.colab.output.renderOutput(dataTable, element);\n",
       "        const docLink = document.createElement('div');\n",
       "        docLink.innerHTML = docLinkHtml;\n",
       "        element.appendChild(docLink);\n",
       "      }\n",
       "    </script>\n",
       "  </div>\n",
       "\n",
       "\n",
       "<div id=\"df-2066af3f-feb7-4db5-a2da-4da4322a87a8\">\n",
       "  <button class=\"colab-df-quickchart\" onclick=\"quickchart('df-2066af3f-feb7-4db5-a2da-4da4322a87a8')\"\n",
       "            title=\"Suggest charts\"\n",
       "            style=\"display:none;\">\n",
       "\n",
       "<svg xmlns=\"http://www.w3.org/2000/svg\" height=\"24px\"viewBox=\"0 0 24 24\"\n",
       "     width=\"24px\">\n",
       "    <g>\n",
       "        <path d=\"M19 3H5c-1.1 0-2 .9-2 2v14c0 1.1.9 2 2 2h14c1.1 0 2-.9 2-2V5c0-1.1-.9-2-2-2zM9 17H7v-7h2v7zm4 0h-2V7h2v10zm4 0h-2v-4h2v4z\"/>\n",
       "    </g>\n",
       "</svg>\n",
       "  </button>\n",
       "\n",
       "<style>\n",
       "  .colab-df-quickchart {\n",
       "      --bg-color: #E8F0FE;\n",
       "      --fill-color: #1967D2;\n",
       "      --hover-bg-color: #E2EBFA;\n",
       "      --hover-fill-color: #174EA6;\n",
       "      --disabled-fill-color: #AAA;\n",
       "      --disabled-bg-color: #DDD;\n",
       "  }\n",
       "\n",
       "  [theme=dark] .colab-df-quickchart {\n",
       "      --bg-color: #3B4455;\n",
       "      --fill-color: #D2E3FC;\n",
       "      --hover-bg-color: #434B5C;\n",
       "      --hover-fill-color: #FFFFFF;\n",
       "      --disabled-bg-color: #3B4455;\n",
       "      --disabled-fill-color: #666;\n",
       "  }\n",
       "\n",
       "  .colab-df-quickchart {\n",
       "    background-color: var(--bg-color);\n",
       "    border: none;\n",
       "    border-radius: 50%;\n",
       "    cursor: pointer;\n",
       "    display: none;\n",
       "    fill: var(--fill-color);\n",
       "    height: 32px;\n",
       "    padding: 0;\n",
       "    width: 32px;\n",
       "  }\n",
       "\n",
       "  .colab-df-quickchart:hover {\n",
       "    background-color: var(--hover-bg-color);\n",
       "    box-shadow: 0 1px 2px rgba(60, 64, 67, 0.3), 0 1px 3px 1px rgba(60, 64, 67, 0.15);\n",
       "    fill: var(--button-hover-fill-color);\n",
       "  }\n",
       "\n",
       "  .colab-df-quickchart-complete:disabled,\n",
       "  .colab-df-quickchart-complete:disabled:hover {\n",
       "    background-color: var(--disabled-bg-color);\n",
       "    fill: var(--disabled-fill-color);\n",
       "    box-shadow: none;\n",
       "  }\n",
       "\n",
       "  .colab-df-spinner {\n",
       "    border: 2px solid var(--fill-color);\n",
       "    border-color: transparent;\n",
       "    border-bottom-color: var(--fill-color);\n",
       "    animation:\n",
       "      spin 1s steps(1) infinite;\n",
       "  }\n",
       "\n",
       "  @keyframes spin {\n",
       "    0% {\n",
       "      border-color: transparent;\n",
       "      border-bottom-color: var(--fill-color);\n",
       "      border-left-color: var(--fill-color);\n",
       "    }\n",
       "    20% {\n",
       "      border-color: transparent;\n",
       "      border-left-color: var(--fill-color);\n",
       "      border-top-color: var(--fill-color);\n",
       "    }\n",
       "    30% {\n",
       "      border-color: transparent;\n",
       "      border-left-color: var(--fill-color);\n",
       "      border-top-color: var(--fill-color);\n",
       "      border-right-color: var(--fill-color);\n",
       "    }\n",
       "    40% {\n",
       "      border-color: transparent;\n",
       "      border-right-color: var(--fill-color);\n",
       "      border-top-color: var(--fill-color);\n",
       "    }\n",
       "    60% {\n",
       "      border-color: transparent;\n",
       "      border-right-color: var(--fill-color);\n",
       "    }\n",
       "    80% {\n",
       "      border-color: transparent;\n",
       "      border-right-color: var(--fill-color);\n",
       "      border-bottom-color: var(--fill-color);\n",
       "    }\n",
       "    90% {\n",
       "      border-color: transparent;\n",
       "      border-bottom-color: var(--fill-color);\n",
       "    }\n",
       "  }\n",
       "</style>\n",
       "\n",
       "  <script>\n",
       "    async function quickchart(key) {\n",
       "      const quickchartButtonEl =\n",
       "        document.querySelector('#' + key + ' button');\n",
       "      quickchartButtonEl.disabled = true;  // To prevent multiple clicks.\n",
       "      quickchartButtonEl.classList.add('colab-df-spinner');\n",
       "      try {\n",
       "        const charts = await google.colab.kernel.invokeFunction(\n",
       "            'suggestCharts', [key], {});\n",
       "      } catch (error) {\n",
       "        console.error('Error during call to suggestCharts:', error);\n",
       "      }\n",
       "      quickchartButtonEl.classList.remove('colab-df-spinner');\n",
       "      quickchartButtonEl.classList.add('colab-df-quickchart-complete');\n",
       "    }\n",
       "    (() => {\n",
       "      let quickchartButtonEl =\n",
       "        document.querySelector('#df-2066af3f-feb7-4db5-a2da-4da4322a87a8 button');\n",
       "      quickchartButtonEl.style.display =\n",
       "        google.colab.kernel.accessAllowed ? 'block' : 'none';\n",
       "    })();\n",
       "  </script>\n",
       "</div>\n",
       "\n",
       "    </div>\n",
       "  </div>\n"
      ],
      "text/plain": [
       "                                            Sentence  Sentiment\n",
       "0  the geosolutions technology will leverage bene...          2\n",
       "1  $esi on lows, down $1.50 to $2.50 bk a real po...          0\n",
       "2  for the last quarter of 2010 , componenta 's n...          2\n",
       "3  according to the finnish-russian chamber of co...          1\n",
       "4  the swedish buyout firm has sold its remaining...          1"
      ]
     },
     "execution_count": 16,
     "metadata": {},
     "output_type": "execute_result"
    }
   ],
   "source": [
    "df.Sentiment = df.Sentiment.map(label_mapper)\n",
    "df.Sentence = df.Sentence.apply(lambda x: x.lower())\n",
    "df.head()"
   ]
  },
  {
   "cell_type": "code",
   "execution_count": null,
   "metadata": {
    "id": "eycbxQ26P22N"
   },
   "outputs": [],
   "source": [
    "df.Sentence = df.Sentence.apply(lambda x: word_tokenize(x))\n",
    "df.head()"
   ]
  },
  {
   "cell_type": "code",
   "execution_count": 19,
   "metadata": {
    "colab": {
     "base_uri": "https://localhost:8080/",
     "height": 0
    },
    "id": "w0hpPzr9fhKi",
    "outputId": "a1143cf1-c3cf-4077-cd01-6cb0707de552"
   },
   "outputs": [
    {
     "data": {
      "text/plain": [
       "32"
      ]
     },
     "execution_count": 19,
     "metadata": {},
     "output_type": "execute_result"
    }
   ],
   "source": [
    "len(df.iloc[0,0])"
   ]
  },
  {
   "cell_type": "code",
   "execution_count": 20,
   "metadata": {
    "id": "sw8Dt4TOQMC-"
   },
   "outputs": [],
   "source": [
    "def indexing_fn(tokens):\n",
    "    idxs = []\n",
    "    for token in tokens:\n",
    "        idxs.append(word2idx.get(token, word2idx['OOV']))\n",
    "    return idxs"
   ]
  },
  {
   "cell_type": "code",
   "execution_count": 21,
   "metadata": {
    "colab": {
     "base_uri": "https://localhost:8080/",
     "height": 206
    },
    "id": "pMECJ95gQMFJ",
    "outputId": "decd4cec-b388-492b-c065-4009d534fd74"
   },
   "outputs": [
    {
     "data": {
      "application/vnd.google.colaboratory.intrinsic+json": {
       "summary": "{\n  \"name\": \"df\",\n  \"rows\": 5842,\n  \"fields\": [\n    {\n      \"column\": \"Sentence\",\n      \"properties\": {\n        \"dtype\": \"object\",\n        \"semantic_type\": \"\",\n        \"description\": \"\"\n      }\n    },\n    {\n      \"column\": \"Sentiment\",\n      \"properties\": {\n        \"dtype\": \"number\",\n        \"std\": 0,\n        \"min\": 0,\n        \"max\": 2,\n        \"num_unique_values\": 3,\n        \"samples\": [\n          2,\n          0,\n          1\n        ],\n        \"semantic_type\": \"\",\n        \"description\": \"\"\n      }\n    }\n  ]\n}",
       "type": "dataframe",
       "variable_name": "df"
      },
      "text/html": [
       "\n",
       "  <div id=\"df-504d66b7-9463-4524-921f-0087b2b72431\" class=\"colab-df-container\">\n",
       "    <div>\n",
       "<style scoped>\n",
       "    .dataframe tbody tr th:only-of-type {\n",
       "        vertical-align: middle;\n",
       "    }\n",
       "\n",
       "    .dataframe tbody tr th {\n",
       "        vertical-align: top;\n",
       "    }\n",
       "\n",
       "    .dataframe thead th {\n",
       "        text-align: right;\n",
       "    }\n",
       "</style>\n",
       "<table border=\"1\" class=\"dataframe\">\n",
       "  <thead>\n",
       "    <tr style=\"text-align: right;\">\n",
       "      <th></th>\n",
       "      <th>Sentence</th>\n",
       "      <th>Sentiment</th>\n",
       "    </tr>\n",
       "  </thead>\n",
       "  <tbody>\n",
       "    <tr>\n",
       "      <th>0</th>\n",
       "      <td>[2, 1, 734, 45, 10746, 1, 11, 14652, 4802, 23,...</td>\n",
       "      <td>2</td>\n",
       "    </tr>\n",
       "    <tr>\n",
       "      <th>1</th>\n",
       "      <td>[82, 80988, 15, 9831, 3, 137, 82, 17310, 6, 82...</td>\n",
       "      <td>0</td>\n",
       "    </tr>\n",
       "    <tr>\n",
       "      <th>2</th>\n",
       "      <td>[12, 2, 78, 550, 5, 657, 3, 1, 11, 1052, 528, ...</td>\n",
       "      <td>2</td>\n",
       "    </tr>\n",
       "    <tr>\n",
       "      <th>3</th>\n",
       "      <td>[202, 6, 2, 1, 3198, 5, 2304, 3, 66, 2, 226, 9...</td>\n",
       "      <td>1</td>\n",
       "    </tr>\n",
       "    <tr>\n",
       "      <th>4</th>\n",
       "      <td>[2, 2794, 11551, 1003, 33, 921, 49, 1528, 3179...</td>\n",
       "      <td>1</td>\n",
       "    </tr>\n",
       "  </tbody>\n",
       "</table>\n",
       "</div>\n",
       "    <div class=\"colab-df-buttons\">\n",
       "\n",
       "  <div class=\"colab-df-container\">\n",
       "    <button class=\"colab-df-convert\" onclick=\"convertToInteractive('df-504d66b7-9463-4524-921f-0087b2b72431')\"\n",
       "            title=\"Convert this dataframe to an interactive table.\"\n",
       "            style=\"display:none;\">\n",
       "\n",
       "  <svg xmlns=\"http://www.w3.org/2000/svg\" height=\"24px\" viewBox=\"0 -960 960 960\">\n",
       "    <path d=\"M120-120v-720h720v720H120Zm60-500h600v-160H180v160Zm220 220h160v-160H400v160Zm0 220h160v-160H400v160ZM180-400h160v-160H180v160Zm440 0h160v-160H620v160ZM180-180h160v-160H180v160Zm440 0h160v-160H620v160Z\"/>\n",
       "  </svg>\n",
       "    </button>\n",
       "\n",
       "  <style>\n",
       "    .colab-df-container {\n",
       "      display:flex;\n",
       "      gap: 12px;\n",
       "    }\n",
       "\n",
       "    .colab-df-convert {\n",
       "      background-color: #E8F0FE;\n",
       "      border: none;\n",
       "      border-radius: 50%;\n",
       "      cursor: pointer;\n",
       "      display: none;\n",
       "      fill: #1967D2;\n",
       "      height: 32px;\n",
       "      padding: 0 0 0 0;\n",
       "      width: 32px;\n",
       "    }\n",
       "\n",
       "    .colab-df-convert:hover {\n",
       "      background-color: #E2EBFA;\n",
       "      box-shadow: 0px 1px 2px rgba(60, 64, 67, 0.3), 0px 1px 3px 1px rgba(60, 64, 67, 0.15);\n",
       "      fill: #174EA6;\n",
       "    }\n",
       "\n",
       "    .colab-df-buttons div {\n",
       "      margin-bottom: 4px;\n",
       "    }\n",
       "\n",
       "    [theme=dark] .colab-df-convert {\n",
       "      background-color: #3B4455;\n",
       "      fill: #D2E3FC;\n",
       "    }\n",
       "\n",
       "    [theme=dark] .colab-df-convert:hover {\n",
       "      background-color: #434B5C;\n",
       "      box-shadow: 0px 1px 3px 1px rgba(0, 0, 0, 0.15);\n",
       "      filter: drop-shadow(0px 1px 2px rgba(0, 0, 0, 0.3));\n",
       "      fill: #FFFFFF;\n",
       "    }\n",
       "  </style>\n",
       "\n",
       "    <script>\n",
       "      const buttonEl =\n",
       "        document.querySelector('#df-504d66b7-9463-4524-921f-0087b2b72431 button.colab-df-convert');\n",
       "      buttonEl.style.display =\n",
       "        google.colab.kernel.accessAllowed ? 'block' : 'none';\n",
       "\n",
       "      async function convertToInteractive(key) {\n",
       "        const element = document.querySelector('#df-504d66b7-9463-4524-921f-0087b2b72431');\n",
       "        const dataTable =\n",
       "          await google.colab.kernel.invokeFunction('convertToInteractive',\n",
       "                                                    [key], {});\n",
       "        if (!dataTable) return;\n",
       "\n",
       "        const docLinkHtml = 'Like what you see? Visit the ' +\n",
       "          '<a target=\"_blank\" href=https://colab.research.google.com/notebooks/data_table.ipynb>data table notebook</a>'\n",
       "          + ' to learn more about interactive tables.';\n",
       "        element.innerHTML = '';\n",
       "        dataTable['output_type'] = 'display_data';\n",
       "        await google.colab.output.renderOutput(dataTable, element);\n",
       "        const docLink = document.createElement('div');\n",
       "        docLink.innerHTML = docLinkHtml;\n",
       "        element.appendChild(docLink);\n",
       "      }\n",
       "    </script>\n",
       "  </div>\n",
       "\n",
       "\n",
       "<div id=\"df-b46a4bb8-7488-4d6c-adf6-d30a4ddb5160\">\n",
       "  <button class=\"colab-df-quickchart\" onclick=\"quickchart('df-b46a4bb8-7488-4d6c-adf6-d30a4ddb5160')\"\n",
       "            title=\"Suggest charts\"\n",
       "            style=\"display:none;\">\n",
       "\n",
       "<svg xmlns=\"http://www.w3.org/2000/svg\" height=\"24px\"viewBox=\"0 0 24 24\"\n",
       "     width=\"24px\">\n",
       "    <g>\n",
       "        <path d=\"M19 3H5c-1.1 0-2 .9-2 2v14c0 1.1.9 2 2 2h14c1.1 0 2-.9 2-2V5c0-1.1-.9-2-2-2zM9 17H7v-7h2v7zm4 0h-2V7h2v10zm4 0h-2v-4h2v4z\"/>\n",
       "    </g>\n",
       "</svg>\n",
       "  </button>\n",
       "\n",
       "<style>\n",
       "  .colab-df-quickchart {\n",
       "      --bg-color: #E8F0FE;\n",
       "      --fill-color: #1967D2;\n",
       "      --hover-bg-color: #E2EBFA;\n",
       "      --hover-fill-color: #174EA6;\n",
       "      --disabled-fill-color: #AAA;\n",
       "      --disabled-bg-color: #DDD;\n",
       "  }\n",
       "\n",
       "  [theme=dark] .colab-df-quickchart {\n",
       "      --bg-color: #3B4455;\n",
       "      --fill-color: #D2E3FC;\n",
       "      --hover-bg-color: #434B5C;\n",
       "      --hover-fill-color: #FFFFFF;\n",
       "      --disabled-bg-color: #3B4455;\n",
       "      --disabled-fill-color: #666;\n",
       "  }\n",
       "\n",
       "  .colab-df-quickchart {\n",
       "    background-color: var(--bg-color);\n",
       "    border: none;\n",
       "    border-radius: 50%;\n",
       "    cursor: pointer;\n",
       "    display: none;\n",
       "    fill: var(--fill-color);\n",
       "    height: 32px;\n",
       "    padding: 0;\n",
       "    width: 32px;\n",
       "  }\n",
       "\n",
       "  .colab-df-quickchart:hover {\n",
       "    background-color: var(--hover-bg-color);\n",
       "    box-shadow: 0 1px 2px rgba(60, 64, 67, 0.3), 0 1px 3px 1px rgba(60, 64, 67, 0.15);\n",
       "    fill: var(--button-hover-fill-color);\n",
       "  }\n",
       "\n",
       "  .colab-df-quickchart-complete:disabled,\n",
       "  .colab-df-quickchart-complete:disabled:hover {\n",
       "    background-color: var(--disabled-bg-color);\n",
       "    fill: var(--disabled-fill-color);\n",
       "    box-shadow: none;\n",
       "  }\n",
       "\n",
       "  .colab-df-spinner {\n",
       "    border: 2px solid var(--fill-color);\n",
       "    border-color: transparent;\n",
       "    border-bottom-color: var(--fill-color);\n",
       "    animation:\n",
       "      spin 1s steps(1) infinite;\n",
       "  }\n",
       "\n",
       "  @keyframes spin {\n",
       "    0% {\n",
       "      border-color: transparent;\n",
       "      border-bottom-color: var(--fill-color);\n",
       "      border-left-color: var(--fill-color);\n",
       "    }\n",
       "    20% {\n",
       "      border-color: transparent;\n",
       "      border-left-color: var(--fill-color);\n",
       "      border-top-color: var(--fill-color);\n",
       "    }\n",
       "    30% {\n",
       "      border-color: transparent;\n",
       "      border-left-color: var(--fill-color);\n",
       "      border-top-color: var(--fill-color);\n",
       "      border-right-color: var(--fill-color);\n",
       "    }\n",
       "    40% {\n",
       "      border-color: transparent;\n",
       "      border-right-color: var(--fill-color);\n",
       "      border-top-color: var(--fill-color);\n",
       "    }\n",
       "    60% {\n",
       "      border-color: transparent;\n",
       "      border-right-color: var(--fill-color);\n",
       "    }\n",
       "    80% {\n",
       "      border-color: transparent;\n",
       "      border-right-color: var(--fill-color);\n",
       "      border-bottom-color: var(--fill-color);\n",
       "    }\n",
       "    90% {\n",
       "      border-color: transparent;\n",
       "      border-bottom-color: var(--fill-color);\n",
       "    }\n",
       "  }\n",
       "</style>\n",
       "\n",
       "  <script>\n",
       "    async function quickchart(key) {\n",
       "      const quickchartButtonEl =\n",
       "        document.querySelector('#' + key + ' button');\n",
       "      quickchartButtonEl.disabled = true;  // To prevent multiple clicks.\n",
       "      quickchartButtonEl.classList.add('colab-df-spinner');\n",
       "      try {\n",
       "        const charts = await google.colab.kernel.invokeFunction(\n",
       "            'suggestCharts', [key], {});\n",
       "      } catch (error) {\n",
       "        console.error('Error during call to suggestCharts:', error);\n",
       "      }\n",
       "      quickchartButtonEl.classList.remove('colab-df-spinner');\n",
       "      quickchartButtonEl.classList.add('colab-df-quickchart-complete');\n",
       "    }\n",
       "    (() => {\n",
       "      let quickchartButtonEl =\n",
       "        document.querySelector('#df-b46a4bb8-7488-4d6c-adf6-d30a4ddb5160 button');\n",
       "      quickchartButtonEl.style.display =\n",
       "        google.colab.kernel.accessAllowed ? 'block' : 'none';\n",
       "    })();\n",
       "  </script>\n",
       "</div>\n",
       "\n",
       "    </div>\n",
       "  </div>\n"
      ],
      "text/plain": [
       "                                            Sentence  Sentiment\n",
       "0  [2, 1, 734, 45, 10746, 1, 11, 14652, 4802, 23,...          2\n",
       "1  [82, 80988, 15, 9831, 3, 137, 82, 17310, 6, 82...          0\n",
       "2  [12, 2, 78, 550, 5, 657, 3, 1, 11, 1052, 528, ...          2\n",
       "3  [202, 6, 2, 1, 3198, 5, 2304, 3, 66, 2, 226, 9...          1\n",
       "4  [2, 2794, 11551, 1003, 33, 921, 49, 1528, 3179...          1"
      ]
     },
     "execution_count": 21,
     "metadata": {},
     "output_type": "execute_result"
    }
   ],
   "source": [
    "df.Sentence = df.Sentence.apply(indexing_fn)\n",
    "df.head()"
   ]
  },
  {
   "cell_type": "code",
   "execution_count": 22,
   "metadata": {
    "colab": {
     "base_uri": "https://localhost:8080/",
     "height": 0
    },
    "id": "p4gz21m3fmoq",
    "outputId": "c7214b8f-9426-4c4d-a1b6-d773827e9d23"
   },
   "outputs": [
    {
     "data": {
      "text/plain": [
       "32"
      ]
     },
     "execution_count": 22,
     "metadata": {},
     "output_type": "execute_result"
    }
   ],
   "source": [
    "len(df.iloc[0,0])"
   ]
  },
  {
   "cell_type": "code",
   "execution_count": 23,
   "metadata": {
    "id": "lu1D8DR1QMG-"
   },
   "outputs": [],
   "source": [
    "padded_idx = tf.keras.preprocessing.sequence.pad_sequences(df.Sentence,\n",
    "                                                          maxlen=128,\n",
    "                                                          padding='post',\n",
    "                                                          truncating='post')"
   ]
  },
  {
   "cell_type": "code",
   "execution_count": 24,
   "metadata": {
    "id": "-ywHAOF0QqLk"
   },
   "outputs": [],
   "source": [
    "X_train, X_test = train_test_split(padded_idx, test_size=0.2, shuffle=True, random_state=0, stratify=df.Sentiment)\n",
    "y_train, y_test = train_test_split(df.Sentiment, test_size=0.2, shuffle=True, random_state=0, stratify=df.Sentiment)"
   ]
  },
  {
   "cell_type": "code",
   "execution_count": 25,
   "metadata": {
    "id": "0rFeHlRYaTdf"
   },
   "outputs": [],
   "source": [
    "X_train, X_valid, y_train, y_valid = train_test_split(X_train, y_train, test_size=0.2, shuffle=True, random_state=0)"
   ]
  },
  {
   "cell_type": "markdown",
   "metadata": {
    "id": "clnlYohQWDRT"
   },
   "source": [
    "##**Construct CNN models**"
   ]
  },
  {
   "cell_type": "code",
   "execution_count": 26,
   "metadata": {
    "colab": {
     "base_uri": "https://localhost:8080/",
     "height": 0
    },
    "id": "w6Vyd2cNUEWD",
    "outputId": "d5146299-1ffb-4218-e92b-aafeb3bf074c"
   },
   "outputs": [
    {
     "name": "stdout",
     "output_type": "stream",
     "text": [
      "Model: \"sequential\"\n",
      "_________________________________________________________________\n",
      " Layer (type)                Output Shape              Param #   \n",
      "=================================================================\n",
      " embedding_1 (Embedding)     (None, 128, 100)          40000200  \n",
      "                                                                 \n",
      " conv1d (Conv1D)             (None, 96, 128)           422528    \n",
      "                                                                 \n",
      " max_pooling1d (MaxPooling1  (None, 48, 128)           0         \n",
      " D)                                                              \n",
      "                                                                 \n",
      " flatten (Flatten)           (None, 6144)              0         \n",
      "                                                                 \n",
      " dense (Dense)               (None, 64)                393280    \n",
      "                                                                 \n",
      " dense_1 (Dense)             (None, 3)                 195       \n",
      "                                                                 \n",
      "=================================================================\n",
      "Total params: 40816203 (155.70 MB)\n",
      "Trainable params: 816003 (3.11 MB)\n",
      "Non-trainable params: 40000200 (152.59 MB)\n",
      "_________________________________________________________________\n"
     ]
    }
   ],
   "source": [
    "#The vanillar CNN\n",
    "from keras.layers import Conv1D, Conv2D, MaxPooling1D\n",
    "from keras.layers import Dense, Activation, Flatten\n",
    "cnn = Sequential()\n",
    "cnn.add(Embedding(input_dim=400002, output_dim=100, embeddings_initializer=tf.keras.initializers.Constant(embeddings), trainable=False, input_shape=(128,)))\n",
    "cnn.add(Conv1D(128, kernel_size = (33), strides = (1),  padding = 'valid', activation = 'relu', input_shape=(1, 128, 100)))\n",
    "cnn.add(MaxPooling1D(pool_size = (2)))\n",
    "cnn.add(Flatten())\n",
    "cnn.add(Dense(64, activation='relu'))\n",
    "cnn.add(Dense(3, activation='softmax'))\n",
    "cnn.summary()"
   ]
  },
  {
   "cell_type": "code",
   "execution_count": 27,
   "metadata": {
    "id": "7g1S_dMaVr5g"
   },
   "outputs": [],
   "source": [
    "cnn.compile(loss='mean_squared_error',\n",
    "                  optimizer=tf.keras.optimizers.Adam(learning_rate=1e-4),\n",
    "                  metrics=['accuracy'])"
   ]
  },
  {
   "cell_type": "code",
   "execution_count": 28,
   "metadata": {
    "colab": {
     "base_uri": "https://localhost:8080/",
     "height": 0
    },
    "id": "tLCObxFvZ3aF",
    "outputId": "2d138be6-89da-4268-86c9-0b73fd991ba6"
   },
   "outputs": [
    {
     "name": "stdout",
     "output_type": "stream",
     "text": [
      "Model: \"sequential_1\"\n",
      "_________________________________________________________________\n",
      " Layer (type)                Output Shape              Param #   \n",
      "=================================================================\n",
      " embedding_2 (Embedding)     (None, 128, 100)          40000200  \n",
      "                                                                 \n",
      " conv1d_1 (Conv1D)           (None, 96, 128)           422528    \n",
      "                                                                 \n",
      " self_attention (SelfAttent  (None, 96, 128)           49152     \n",
      " ion)                                                            \n",
      "                                                                 \n",
      " max_pooling1d_1 (MaxPoolin  (None, 48, 128)           0         \n",
      " g1D)                                                            \n",
      "                                                                 \n",
      " flatten_1 (Flatten)         (None, 6144)              0         \n",
      "                                                                 \n",
      " dense_2 (Dense)             (None, 64)                393280    \n",
      "                                                                 \n",
      " dense_3 (Dense)             (None, 3)                 195       \n",
      "                                                                 \n",
      "=================================================================\n",
      "Total params: 40865355 (155.89 MB)\n",
      "Trainable params: 865155 (3.30 MB)\n",
      "Non-trainable params: 40000200 (152.59 MB)\n",
      "_________________________________________________________________\n"
     ]
    }
   ],
   "source": [
    "#CNN with attention layer added\n",
    "from keras.models import Sequential\n",
    "from keras.layers import Embedding, Conv1D, MaxPooling1D, Dense, Activation, Flatten, Layer\n",
    "from tensorflow import keras\n",
    "import tensorflow as tf\n",
    "\n",
    "class SelfAttention(Layer):\n",
    "    def build(self, input_shape):\n",
    "        d = input_shape[-1]\n",
    "        self.Wq = self.add_weight(shape=(d, d), initializer='glorot_uniform', trainable=True)\n",
    "        self.Wk = self.add_weight(shape=(d, d), initializer='glorot_uniform', trainable=True)\n",
    "        self.Wv = self.add_weight(shape=(d, d), initializer='glorot_uniform', trainable=True)\n",
    "\n",
    "    def call(self, inputs):\n",
    "        q = tf.matmul(inputs, self.Wq)\n",
    "        k = tf.matmul(inputs, self.Wk)\n",
    "        v = tf.matmul(inputs, self.Wv)\n",
    "\n",
    "        scores = tf.matmul(q, k, transpose_b=True)\n",
    "        scores = scores / tf.math.sqrt(tf.cast(tf.shape(k)[-1], tf.float32))\n",
    "\n",
    "        attn_weights = tf.nn.softmax(scores, axis=-1)\n",
    "        output = tf.matmul(attn_weights, v)\n",
    "\n",
    "        return output\n",
    "\n",
    "cnn_at = Sequential()\n",
    "cnn_at.add(Embedding(input_dim=400002, output_dim=100, embeddings_initializer=tf.keras.initializers.Constant(embeddings), trainable=False, input_shape=(128,)))\n",
    "cnn_at.add(Conv1D(128, kernel_size=33, strides=1, padding='valid', activation='relu'))\n",
    "cnn_at.add(SelfAttention())  # Adding the SelfAttention layer\n",
    "cnn_at.add(MaxPooling1D(pool_size=2))\n",
    "cnn_at.add(Flatten())\n",
    "cnn_at.add(Dense(64, activation='relu'))\n",
    "cnn_at.add(Dense(3, activation='softmax'))\n",
    "\n",
    "cnn_at.summary()\n"
   ]
  },
  {
   "cell_type": "code",
   "execution_count": 29,
   "metadata": {
    "id": "HgT6XMlrrR7z"
   },
   "outputs": [],
   "source": [
    "cnn_at.compile(loss='mean_squared_error',\n",
    "                  optimizer=tf.keras.optimizers.Adam(learning_rate=1e-4),\n",
    "                  metrics=['accuracy'])"
   ]
  },
  {
   "cell_type": "markdown",
   "metadata": {
    "id": "pxQGkn7wjgvW"
   },
   "source": [
    "##**Construct RNNs models**"
   ]
  },
  {
   "cell_type": "code",
   "execution_count": 30,
   "metadata": {
    "colab": {
     "base_uri": "https://localhost:8080/",
     "height": 0
    },
    "id": "W4c-VMsdbCZp",
    "outputId": "1fd90430-fc50-4618-bd2b-adb5b924740c"
   },
   "outputs": [
    {
     "name": "stdout",
     "output_type": "stream",
     "text": [
      "Model: \"sequential_2\"\n",
      "_________________________________________________________________\n",
      " Layer (type)                Output Shape              Param #   \n",
      "=================================================================\n",
      " embedding_3 (Embedding)     (None, 128, 100)          40000200  \n",
      "                                                                 \n",
      " simple_rnn (SimpleRNN)      (None, 128, 256)          91392     \n",
      "                                                                 \n",
      " simple_rnn_1 (SimpleRNN)    (None, 128)               49280     \n",
      "                                                                 \n",
      " dense_4 (Dense)             (None, 64)                8256      \n",
      "                                                                 \n",
      " dense_5 (Dense)             (None, 3)                 195       \n",
      "                                                                 \n",
      "=================================================================\n",
      "Total params: 40149323 (153.16 MB)\n",
      "Trainable params: 149123 (582.51 KB)\n",
      "Non-trainable params: 40000200 (152.59 MB)\n",
      "_________________________________________________________________\n"
     ]
    }
   ],
   "source": [
    "#Vanillar RNN\n",
    "from keras.models import Sequential\n",
    "from keras.layers import Embedding, SimpleRNN, Dense, Layer\n",
    "from tensorflow import keras\n",
    "import tensorflow as tf\n",
    "# SimpleRNN\n",
    "srnn = Sequential()\n",
    "srnn.add(Embedding(input_dim=400002, output_dim=100, embeddings_initializer=tf.keras.initializers.Constant(embeddings), trainable=False, input_shape=(128,)))\n",
    "srnn.add(SimpleRNN(256, return_sequences=True))\n",
    "srnn.add(SimpleRNN(128, return_sequences=False))\n",
    "srnn.add(Dense(64, activation='relu'))\n",
    "srnn.add(Dense(3, activation='softmax'))\n",
    "srnn.summary()"
   ]
  },
  {
   "cell_type": "code",
   "execution_count": 31,
   "metadata": {
    "id": "ZMYsepUvYDuy"
   },
   "outputs": [],
   "source": [
    "srnn.compile(loss='sparse_categorical_crossentropy',\n",
    "                  optimizer=tf.keras.optimizers.Adam(learning_rate=1e-4),\n",
    "                  metrics=['accuracy'])"
   ]
  },
  {
   "cell_type": "code",
   "execution_count": 32,
   "metadata": {
    "colab": {
     "base_uri": "https://localhost:8080/",
     "height": 0
    },
    "id": "S4zr71IydLsz",
    "outputId": "b586e17b-b51e-4e05-aee6-b3f85bd954c9"
   },
   "outputs": [
    {
     "name": "stdout",
     "output_type": "stream",
     "text": [
      "Model: \"sequential_3\"\n",
      "_________________________________________________________________\n",
      " Layer (type)                Output Shape              Param #   \n",
      "=================================================================\n",
      " embedding_4 (Embedding)     (None, 128, 100)          40000200  \n",
      "                                                                 \n",
      " simple_rnn_2 (SimpleRNN)    (None, 128, 256)          91392     \n",
      "                                                                 \n",
      " self_attention_1 (SelfAtte  (None, 128, 256)          196608    \n",
      " ntion)                                                          \n",
      "                                                                 \n",
      " simple_rnn_3 (SimpleRNN)    (None, 128)               49280     \n",
      "                                                                 \n",
      " dense_6 (Dense)             (None, 64)                8256      \n",
      "                                                                 \n",
      " dense_7 (Dense)             (None, 3)                 195       \n",
      "                                                                 \n",
      "=================================================================\n",
      "Total params: 40345931 (153.91 MB)\n",
      "Trainable params: 345731 (1.32 MB)\n",
      "Non-trainable params: 40000200 (152.59 MB)\n",
      "_________________________________________________________________\n"
     ]
    }
   ],
   "source": [
    "#adding attention layer to RNN\n",
    "from keras.models import Sequential\n",
    "from keras.layers import Embedding, SimpleRNN, Dense, Layer\n",
    "from tensorflow import keras\n",
    "import tensorflow as tf\n",
    "\n",
    "class SelfAttention(Layer):\n",
    "    def build(self, input_shape):\n",
    "        d = input_shape[-1]\n",
    "        self.Wq = self.add_weight(shape=(d, d), initializer='glorot_uniform', trainable=True)\n",
    "        self.Wk = self.add_weight(shape=(d, d), initializer='glorot_uniform', trainable=True)\n",
    "        self.Wv = self.add_weight(shape=(d, d), initializer='glorot_uniform', trainable=True)\n",
    "\n",
    "    def call(self, inputs):\n",
    "        q = tf.matmul(inputs, self.Wq)\n",
    "        k = tf.matmul(inputs, self.Wk)\n",
    "        v = tf.matmul(inputs, self.Wv)\n",
    "\n",
    "        scores = tf.matmul(q, k, transpose_b=True)\n",
    "        scores = scores / tf.math.sqrt(tf.cast(tf.shape(k)[-1], tf.float32))\n",
    "\n",
    "        attn_weights = tf.nn.softmax(scores, axis=-1)\n",
    "        output = tf.matmul(attn_weights, v)\n",
    "\n",
    "        return output\n",
    "\n",
    "srnn_at = Sequential()\n",
    "srnn_at.add(Embedding(input_dim=400002, output_dim=100, embeddings_initializer=tf.keras.initializers.Constant(embeddings), trainable=False, input_shape=(128,)))\n",
    "srnn_at.add(SimpleRNN(256, return_sequences=True))\n",
    "srnn_at.add(SelfAttention())\n",
    "srnn_at.add(SimpleRNN(128, return_sequences=False))\n",
    "srnn_at.add(Dense(64, activation='relu'))\n",
    "srnn_at.add(Dense(3, activation='softmax'))\n",
    "\n",
    "srnn_at.summary()\n"
   ]
  },
  {
   "cell_type": "code",
   "execution_count": 33,
   "metadata": {
    "id": "ZAX-Bju_rVQR"
   },
   "outputs": [],
   "source": [
    "srnn_at.compile(loss='sparse_categorical_crossentropy',\n",
    "                  optimizer=tf.keras.optimizers.Adam(learning_rate=1e-4),\n",
    "                  metrics=['accuracy'])"
   ]
  },
  {
   "cell_type": "markdown",
   "metadata": {
    "id": "YK8O9Qn5SJ5q"
   },
   "source": [
    "##**Construct LSTM models**\n",
    "\n"
   ]
  },
  {
   "cell_type": "code",
   "execution_count": 34,
   "metadata": {
    "colab": {
     "base_uri": "https://localhost:8080/",
     "height": 0
    },
    "id": "u6t-l9LzRpr2",
    "outputId": "f1bf655a-5697-40c0-8162-38ecd18b3ca3"
   },
   "outputs": [
    {
     "name": "stdout",
     "output_type": "stream",
     "text": [
      "Model: \"sequential_4\"\n",
      "_________________________________________________________________\n",
      " Layer (type)                Output Shape              Param #   \n",
      "=================================================================\n",
      " embedding_5 (Embedding)     (None, 128, 100)          40000200  \n",
      "                                                                 \n",
      " lstm_1 (LSTM)               (None, 128, 256)          365568    \n",
      "                                                                 \n",
      " lstm_2 (LSTM)               (None, 128)               197120    \n",
      "                                                                 \n",
      " dense_8 (Dense)             (None, 64)                8256      \n",
      "                                                                 \n",
      " dense_9 (Dense)             (None, 3)                 195       \n",
      "                                                                 \n",
      "=================================================================\n",
      "Total params: 40571339 (154.77 MB)\n",
      "Trainable params: 571139 (2.18 MB)\n",
      "Non-trainable params: 40000200 (152.59 MB)\n",
      "_________________________________________________________________\n"
     ]
    }
   ],
   "source": [
    "# LSTM\n",
    "slstm = Sequential()\n",
    "slstm.add(Embedding(input_dim=400002, output_dim=100, embeddings_initializer=tf.keras.initializers.Constant(embeddings), trainable=False, input_shape=(128,)))\n",
    "slstm.add(LSTM(256, return_sequences=True))\n",
    "slstm.add(LSTM(128, return_sequences=False))\n",
    "slstm.add(Dense(64, activation='relu'))\n",
    "slstm.add(Dense(3, activation='softmax'))\n",
    "slstm.summary()"
   ]
  },
  {
   "cell_type": "code",
   "execution_count": 35,
   "metadata": {
    "id": "LjnrDAJtfjPa"
   },
   "outputs": [],
   "source": [
    "slstm.compile(loss='sparse_categorical_crossentropy',\n",
    "                  optimizer=tf.keras.optimizers.Adam(learning_rate=1e-4),\n",
    "                  metrics=['accuracy'])"
   ]
  },
  {
   "cell_type": "code",
   "execution_count": 38,
   "metadata": {
    "colab": {
     "base_uri": "https://localhost:8080/",
     "height": 0
    },
    "id": "edE4eKcAdVey",
    "outputId": "fe8a7af4-be17-42a7-a94e-545aa49aa6de"
   },
   "outputs": [
    {
     "name": "stdout",
     "output_type": "stream",
     "text": [
      "Model: \"sequential_5\"\n",
      "_________________________________________________________________\n",
      " Layer (type)                Output Shape              Param #   \n",
      "=================================================================\n",
      " embedding_8 (Embedding)     (None, 128, 100)          40000200  \n",
      "                                                                 \n",
      " lstm_5 (LSTM)               (None, 128, 256)          365568    \n",
      "                                                                 \n",
      " self_attention_2 (SelfAtte  (None, 128, 256)          196608    \n",
      " ntion)                                                          \n",
      "                                                                 \n",
      " lstm_6 (LSTM)               (None, 128)               197120    \n",
      "                                                                 \n",
      " dense_10 (Dense)            (None, 64)                8256      \n",
      "                                                                 \n",
      " dense_11 (Dense)            (None, 3)                 195       \n",
      "                                                                 \n",
      "=================================================================\n",
      "Total params: 40767947 (155.52 MB)\n",
      "Trainable params: 767747 (2.93 MB)\n",
      "Non-trainable params: 40000200 (152.59 MB)\n",
      "_________________________________________________________________\n"
     ]
    }
   ],
   "source": [
    "#now your turn to add attention layer, and name the model as \"slstm_at\"\n",
    "slstm_at = Sequential()\n",
    "slstm_at.add(Embedding(input_dim=400002, output_dim=100, embeddings_initializer=tf.keras.initializers.Constant(embeddings), trainable=False, input_shape=(128,)))\n",
    "slstm_at.add(LSTM(256, return_sequences=True))\n",
    "slstm_at.add(SelfAttention())  # Attention layer added here\n",
    "slstm_at.add(LSTM(128, return_sequences=False))\n",
    "slstm_at.add(Dense(64, activation='relu'))\n",
    "slstm_at.add(Dense(3, activation='softmax'))\n",
    "slstm_at.summary()\n",
    "\n",
    "slstm_at.compile(loss='sparse_categorical_crossentropy',\n",
    "                 optimizer=tf.keras.optimizers.Adam(learning_rate=1e-4),\n",
    "                 metrics=['accuracy'])"
   ]
  },
  {
   "cell_type": "markdown",
   "metadata": {
    "id": "qKF6uW-BCaW-"
   },
   "source": [
    "\n",
    "\n",
    "**Train the model**\n"
   ]
  },
  {
   "cell_type": "code",
   "execution_count": 45,
   "metadata": {
    "id": "qkq01l4_tkhN"
   },
   "outputs": [],
   "source": [
    "from keras.callbacks import EarlyStopping\n",
    "\n",
    "# Define early stopping criteria\n",
    "early_stopping = EarlyStopping(monitor='val_loss', patience=8, restore_best_weights=True)"
   ]
  },
  {
   "cell_type": "code",
   "execution_count": 46,
   "metadata": {
    "colab": {
     "base_uri": "https://localhost:8080/",
     "height": 0
    },
    "id": "Ua97MzSY8RdX",
    "outputId": "62827bb4-56e6-4808-b0c5-3d7ac6b0416a"
   },
   "outputs": [
    {
     "name": "stdout",
     "output_type": "stream",
     "text": [
      "Epoch 1/30\n",
      "59/59 [==============================] - 4s 26ms/step - loss: 1.1244 - accuracy: 0.3333 - val_loss: 1.1775 - val_accuracy: 0.2984\n",
      "Epoch 2/30\n",
      "59/59 [==============================] - 1s 13ms/step - loss: 1.1242 - accuracy: 0.3261 - val_loss: 1.1774 - val_accuracy: 0.2920\n",
      "Epoch 3/30\n",
      "59/59 [==============================] - 1s 12ms/step - loss: 1.1242 - accuracy: 0.2857 - val_loss: 1.1774 - val_accuracy: 0.2471\n",
      "Epoch 4/30\n",
      "59/59 [==============================] - 1s 10ms/step - loss: 1.1242 - accuracy: 0.2453 - val_loss: 1.1774 - val_accuracy: 0.2203\n",
      "Epoch 5/30\n",
      "59/59 [==============================] - 1s 9ms/step - loss: 1.1242 - accuracy: 0.2236 - val_loss: 1.1774 - val_accuracy: 0.2128\n",
      "Epoch 6/30\n",
      "59/59 [==============================] - 1s 10ms/step - loss: 1.1242 - accuracy: 0.2087 - val_loss: 1.1774 - val_accuracy: 0.2021\n",
      "Epoch 7/30\n",
      "59/59 [==============================] - 1s 10ms/step - loss: 1.1242 - accuracy: 0.1982 - val_loss: 1.1774 - val_accuracy: 0.2011\n",
      "Epoch 8/30\n",
      "59/59 [==============================] - 1s 9ms/step - loss: 1.1242 - accuracy: 0.4256 - val_loss: 1.1774 - val_accuracy: 0.1968\n",
      "Epoch 9/30\n",
      "59/59 [==============================] - 0s 6ms/step - loss: 1.1242 - accuracy: 0.1905 - val_loss: 1.1774 - val_accuracy: 0.1914\n",
      "Epoch 10/30\n",
      "59/59 [==============================] - 1s 10ms/step - loss: 1.1242 - accuracy: 0.2606 - val_loss: 1.1774 - val_accuracy: 0.1914\n",
      "Epoch 11/30\n",
      "59/59 [==============================] - 0s 7ms/step - loss: 1.1242 - accuracy: 0.1795 - val_loss: 1.1774 - val_accuracy: 0.1872\n",
      "Epoch 12/30\n",
      "59/59 [==============================] - 0s 7ms/step - loss: 1.1242 - accuracy: 0.1768 - val_loss: 1.1774 - val_accuracy: 0.1829\n",
      "Epoch 13/30\n",
      "59/59 [==============================] - 0s 6ms/step - loss: 1.1242 - accuracy: 0.1734 - val_loss: 1.1774 - val_accuracy: 0.1797\n",
      "Epoch 14/30\n",
      "59/59 [==============================] - 1s 10ms/step - loss: 1.1242 - accuracy: 0.1712 - val_loss: 1.1774 - val_accuracy: 0.1765\n",
      "Epoch 15/30\n",
      "59/59 [==============================] - 1s 10ms/step - loss: 1.1242 - accuracy: 0.1709 - val_loss: 1.1774 - val_accuracy: 0.1733\n",
      "Epoch 16/30\n",
      "59/59 [==============================] - 0s 7ms/step - loss: 1.1242 - accuracy: 0.3488 - val_loss: 1.1774 - val_accuracy: 0.1711\n",
      "Epoch 17/30\n",
      "59/59 [==============================] - 0s 7ms/step - loss: 1.1242 - accuracy: 0.1675 - val_loss: 1.1774 - val_accuracy: 0.1711\n",
      "Epoch 18/30\n",
      "59/59 [==============================] - 0s 6ms/step - loss: 1.1242 - accuracy: 0.1659 - val_loss: 1.1774 - val_accuracy: 0.1690\n",
      "Epoch 19/30\n",
      "59/59 [==============================] - 0s 6ms/step - loss: 1.1242 - accuracy: 0.1629 - val_loss: 1.1774 - val_accuracy: 0.1690\n",
      "Epoch 20/30\n",
      "59/59 [==============================] - 0s 7ms/step - loss: 1.1242 - accuracy: 0.1969 - val_loss: 1.1774 - val_accuracy: 0.1679\n",
      "Epoch 21/30\n",
      "59/59 [==============================] - 0s 7ms/step - loss: 1.1242 - accuracy: 0.1899 - val_loss: 1.1774 - val_accuracy: 0.1658\n",
      "Epoch 22/30\n",
      "59/59 [==============================] - 0s 7ms/step - loss: 1.1242 - accuracy: 0.1608 - val_loss: 1.1774 - val_accuracy: 0.1647\n",
      "Epoch 23/30\n",
      "59/59 [==============================] - 1s 10ms/step - loss: 1.1242 - accuracy: 0.3785 - val_loss: 1.1774 - val_accuracy: 0.1615\n"
     ]
    }
   ],
   "source": [
    "history = cnn.fit(X_train, y_train, validation_data=(X_valid, y_valid), batch_size = 64, epochs = 30,callbacks=[early_stopping])"
   ]
  },
  {
   "cell_type": "code",
   "execution_count": 47,
   "metadata": {
    "colab": {
     "base_uri": "https://localhost:8080/",
     "height": 452
    },
    "id": "ctu3sc2X8TBG",
    "outputId": "ceed534b-2b16-4f3d-b1e9-2e73cb57c623"
   },
   "outputs": [
    {
     "data": {
      "text/plain": [
       "<matplotlib.legend.Legend at 0x7da1e0ff3dc0>"
      ]
     },
     "execution_count": 47,
     "metadata": {},
     "output_type": "execute_result"
    },
    {
     "data": {
      "image/png": "[encoded data removed]",
      "text/plain": [
       "<Figure size 640x480 with 1 Axes>"
      ]
     },
     "metadata": {},
     "output_type": "display_data"
    }
   ],
   "source": [
    "plt.plot(history.history['loss'], label = 'loss')\n",
    "plt.plot(history.history['val_loss'], label = 'val loss')\n",
    "plt.legend()"
   ]
  },
  {
   "cell_type": "code",
   "execution_count": 48,
   "metadata": {
    "colab": {
     "base_uri": "https://localhost:8080/",
     "height": 0
    },
    "id": "yhT3qQ8F8ZvR",
    "outputId": "19546587-e933-48fc-b89e-21ed9b912a6b"
   },
   "outputs": [
    {
     "name": "stdout",
     "output_type": "stream",
     "text": [
      "37/37 [==============================] - 0s 6ms/step - loss: 1.1359 - accuracy: 0.1702\n"
     ]
    },
    {
     "data": {
      "text/plain": [
       "[1.1359187364578247, 0.17023096978664398]"
      ]
     },
     "execution_count": 48,
     "metadata": {},
     "output_type": "execute_result"
    }
   ],
   "source": [
    "cnn.evaluate(X_test, y_test)"
   ]
  },
  {
   "cell_type": "code",
   "execution_count": 49,
   "metadata": {
    "colab": {
     "base_uri": "https://localhost:8080/",
     "height": 586
    },
    "id": "BeNs5fe18beW",
    "outputId": "7603990d-c682-413b-bbac-660bdb490e5c"
   },
   "outputs": [
    {
     "name": "stdout",
     "output_type": "stream",
     "text": [
      "37/37 [==============================] - 0s 3ms/step\n",
      "[[145  13  14]\n",
      " [583  22  21]\n",
      " [318  21  32]]\n"
     ]
    },
    {
     "data": {
      "image/png": "[encoded data removed]",
      "text/plain": [
       "<Figure size 1000x700 with 2 Axes>"
      ]
     },
     "metadata": {},
     "output_type": "display_data"
    }
   ],
   "source": [
    "# Obtain predicted labels\n",
    "y_pred = np.argmax(cnn.predict(X_test), axis=1)\n",
    "\n",
    "# Compute the confusion matrix\n",
    "cm = confusion_matrix(y_test, y_pred)\n",
    "\n",
    "print(cm)\n",
    "\n",
    "# Plot the confusion matrix\n",
    "plt.figure(figsize=(10, 7))\n",
    "sns.heatmap(cm, annot=True, fmt='d', cmap='Blues', xticklabels=['0', '1','2'], yticklabels=['0','1','2'])\n",
    "plt.xlabel('Predicted Label')\n",
    "plt.ylabel('True Label')\n",
    "plt.title('Confusion Matrix')\n",
    "plt.show()"
   ]
  },
  {
   "cell_type": "code",
   "execution_count": 50,
   "metadata": {
    "colab": {
     "base_uri": "https://localhost:8080/",
     "height": 0
    },
    "id": "XGPCb7A8Vups",
    "outputId": "3de1eb3d-1160-4eb0-c5a8-3f2a92c4f3b2"
   },
   "outputs": [
    {
     "name": "stdout",
     "output_type": "stream",
     "text": [
      "Epoch 1/30\n",
      "59/59 [==============================] - 4s 25ms/step - loss: 1.1242 - accuracy: 0.3368 - val_loss: 1.1774 - val_accuracy: 0.3551\n",
      "Epoch 2/30\n",
      "59/59 [==============================] - 1s 12ms/step - loss: 1.1242 - accuracy: 0.3202 - val_loss: 1.1774 - val_accuracy: 0.3102\n",
      "Epoch 3/30\n",
      "59/59 [==============================] - 0s 8ms/step - loss: 1.1242 - accuracy: 0.3208 - val_loss: 1.1774 - val_accuracy: 0.2856\n",
      "Epoch 4/30\n",
      "59/59 [==============================] - 1s 11ms/step - loss: 1.1242 - accuracy: 0.3272 - val_loss: 1.1774 - val_accuracy: 0.2973\n",
      "Epoch 5/30\n",
      "59/59 [==============================] - 1s 8ms/step - loss: 1.1242 - accuracy: 0.3301 - val_loss: 1.1774 - val_accuracy: 0.3219\n",
      "Epoch 6/30\n",
      "59/59 [==============================] - 1s 11ms/step - loss: 1.1242 - accuracy: 0.3387 - val_loss: 1.1774 - val_accuracy: 0.3091\n",
      "Epoch 7/30\n",
      "59/59 [==============================] - 0s 8ms/step - loss: 1.1242 - accuracy: 0.3398 - val_loss: 1.1774 - val_accuracy: 0.2941\n",
      "Epoch 8/30\n",
      "59/59 [==============================] - 0s 8ms/step - loss: 1.1242 - accuracy: 0.3339 - val_loss: 1.1774 - val_accuracy: 0.3380\n",
      "Epoch 9/30\n",
      "59/59 [==============================] - 0s 8ms/step - loss: 1.1242 - accuracy: 0.3283 - val_loss: 1.1774 - val_accuracy: 0.2717\n",
      "Epoch 10/30\n",
      "59/59 [==============================] - 0s 8ms/step - loss: 1.1242 - accuracy: 0.3365 - val_loss: 1.1774 - val_accuracy: 0.2567\n",
      "Epoch 11/30\n",
      "59/59 [==============================] - 0s 8ms/step - loss: 1.1242 - accuracy: 0.3422 - val_loss: 1.1774 - val_accuracy: 0.2834\n",
      "Epoch 12/30\n",
      "59/59 [==============================] - 0s 8ms/step - loss: 1.1242 - accuracy: 0.3331 - val_loss: 1.1774 - val_accuracy: 0.2973\n",
      "Epoch 13/30\n",
      "59/59 [==============================] - 1s 8ms/step - loss: 1.1242 - accuracy: 0.3331 - val_loss: 1.1774 - val_accuracy: 0.2299\n",
      "Epoch 14/30\n",
      "59/59 [==============================] - 1s 11ms/step - loss: 1.1242 - accuracy: 0.3408 - val_loss: 1.1774 - val_accuracy: 0.2652\n",
      "Epoch 15/30\n",
      "59/59 [==============================] - 0s 8ms/step - loss: 1.1242 - accuracy: 0.3242 - val_loss: 1.1774 - val_accuracy: 0.3230\n",
      "Epoch 16/30\n",
      "59/59 [==============================] - 1s 25ms/step - loss: 1.1242 - accuracy: 0.3266 - val_loss: 1.1774 - val_accuracy: 0.3112\n",
      "Epoch 17/30\n",
      "59/59 [==============================] - 1s 17ms/step - loss: 1.1242 - accuracy: 0.3387 - val_loss: 1.1774 - val_accuracy: 0.2439\n",
      "Epoch 18/30\n",
      "59/59 [==============================] - 1s 23ms/step - loss: 1.1242 - accuracy: 0.3357 - val_loss: 1.1774 - val_accuracy: 0.2503\n",
      "Epoch 19/30\n",
      "59/59 [==============================] - 1s 25ms/step - loss: 1.1242 - accuracy: 0.3213 - val_loss: 1.1774 - val_accuracy: 0.2920\n",
      "Epoch 20/30\n",
      "59/59 [==============================] - 2s 27ms/step - loss: 1.1242 - accuracy: 0.3347 - val_loss: 1.1774 - val_accuracy: 0.2481\n",
      "Epoch 21/30\n",
      "59/59 [==============================] - 2s 27ms/step - loss: 1.1242 - accuracy: 0.3208 - val_loss: 1.1774 - val_accuracy: 0.3037\n",
      "Epoch 22/30\n",
      "59/59 [==============================] - 1s 24ms/step - loss: 1.1242 - accuracy: 0.3194 - val_loss: 1.1774 - val_accuracy: 0.2631\n",
      "Epoch 23/30\n",
      "59/59 [==============================] - 1s 18ms/step - loss: 1.1242 - accuracy: 0.3283 - val_loss: 1.1774 - val_accuracy: 0.2396\n",
      "Epoch 24/30\n",
      "59/59 [==============================] - 1s 13ms/step - loss: 1.1242 - accuracy: 0.3098 - val_loss: 1.1774 - val_accuracy: 0.3155\n"
     ]
    }
   ],
   "source": [
    "history = cnn_at.fit(X_train, y_train, validation_data=(X_valid, y_valid), batch_size = 64, epochs = 30,callbacks=[early_stopping])"
   ]
  },
  {
   "cell_type": "code",
   "execution_count": 51,
   "metadata": {
    "colab": {
     "base_uri": "https://localhost:8080/",
     "height": 452
    },
    "id": "V8ELWWoVZXcs",
    "outputId": "fa4b010b-7f5b-4efc-e110-7a4a88f1ca26"
   },
   "outputs": [
    {
     "data": {
      "text/plain": [
       "<matplotlib.legend.Legend at 0x7da1e1e8e260>"
      ]
     },
     "execution_count": 51,
     "metadata": {},
     "output_type": "execute_result"
    },
    {
     "data": {
      "image/png": "[encoded data removed]",
      "text/plain": [
       "<Figure size 640x480 with 1 Axes>"
      ]
     },
     "metadata": {},
     "output_type": "display_data"
    }
   ],
   "source": [
    "plt.plot(history.history['loss'], label = 'loss')\n",
    "plt.plot(history.history['val_loss'], label = 'val loss')\n",
    "plt.legend()"
   ]
  },
  {
   "cell_type": "code",
   "execution_count": 52,
   "metadata": {
    "colab": {
     "base_uri": "https://localhost:8080/",
     "height": 0
    },
    "id": "1EOCs_fTZeX-",
    "outputId": "c21dc3b5-b3e5-4cac-ad12-ca956fc61d0e"
   },
   "outputs": [
    {
     "name": "stdout",
     "output_type": "stream",
     "text": [
      "37/37 [==============================] - 0s 6ms/step - loss: 1.1359 - accuracy: 0.3319\n"
     ]
    },
    {
     "data": {
      "text/plain": [
       "[1.1359186172485352, 0.33190760016441345]"
      ]
     },
     "execution_count": 52,
     "metadata": {},
     "output_type": "execute_result"
    }
   ],
   "source": [
    "cnn_at.evaluate(X_test, y_test)"
   ]
  },
  {
   "cell_type": "code",
   "execution_count": 53,
   "metadata": {
    "colab": {
     "base_uri": "https://localhost:8080/",
     "height": 586
    },
    "id": "31JMbnndYZu_",
    "outputId": "ab2bf1fe-ebb1-4f39-b58d-676267607023"
   },
   "outputs": [
    {
     "name": "stdout",
     "output_type": "stream",
     "text": [
      "37/37 [==============================] - 0s 5ms/step\n",
      "[[ 53  75  44]\n",
      " [203 234 189]\n",
      " [124 146 101]]\n"
     ]
    },
    {
     "data": {
      "image/png": "[encoded data removed]",
      "text/plain": [
       "<Figure size 1000x700 with 2 Axes>"
      ]
     },
     "metadata": {},
     "output_type": "display_data"
    }
   ],
   "source": [
    "# Obtain predicted labels\n",
    "y_pred = np.argmax(cnn_at.predict(X_test), axis=1)\n",
    "\n",
    "# Compute the confusion matrix\n",
    "cm = confusion_matrix(y_test, y_pred)\n",
    "\n",
    "print(cm)\n",
    "\n",
    "# Plot the confusion matrix\n",
    "plt.figure(figsize=(10, 7))\n",
    "sns.heatmap(cm, annot=True, fmt='d', cmap='Blues', xticklabels=['0', '1','2'], yticklabels=['0','1','2'])\n",
    "plt.xlabel('Predicted Label')\n",
    "plt.ylabel('True Label')\n",
    "plt.title('Confusion Matrix')\n",
    "plt.show()"
   ]
  },
  {
   "cell_type": "code",
   "execution_count": 54,
   "metadata": {
    "colab": {
     "base_uri": "https://localhost:8080/",
     "height": 0
    },
    "id": "nEWHghkZYGWY",
    "outputId": "d4ef9ab4-d7fd-4119-9217-dd9379e12500"
   },
   "outputs": [
    {
     "name": "stdout",
     "output_type": "stream",
     "text": [
      "Epoch 1/30\n",
      "59/59 [==============================] - 18s 249ms/step - loss: 0.9398 - accuracy: 0.5564 - val_loss: 0.9311 - val_accuracy: 0.5786\n",
      "Epoch 2/30\n",
      "59/59 [==============================] - 15s 248ms/step - loss: 0.8760 - accuracy: 0.6126 - val_loss: 0.8727 - val_accuracy: 0.5914\n",
      "Epoch 3/30\n",
      "59/59 [==============================] - 14s 240ms/step - loss: 0.8404 - accuracy: 0.6236 - val_loss: 0.8584 - val_accuracy: 0.6064\n",
      "Epoch 4/30\n",
      "59/59 [==============================] - 15s 249ms/step - loss: 0.8305 - accuracy: 0.6319 - val_loss: 0.8496 - val_accuracy: 0.5947\n",
      "Epoch 5/30\n",
      "59/59 [==============================] - 15s 251ms/step - loss: 0.8097 - accuracy: 0.6447 - val_loss: 0.8136 - val_accuracy: 0.6182\n",
      "Epoch 6/30\n",
      "59/59 [==============================] - 15s 260ms/step - loss: 0.7529 - accuracy: 0.6667 - val_loss: 0.7754 - val_accuracy: 0.6396\n",
      "Epoch 7/30\n",
      "59/59 [==============================] - 14s 232ms/step - loss: 0.7281 - accuracy: 0.6811 - val_loss: 0.7816 - val_accuracy: 0.6342\n",
      "Epoch 8/30\n",
      "59/59 [==============================] - 14s 238ms/step - loss: 0.6707 - accuracy: 0.7154 - val_loss: 0.7333 - val_accuracy: 0.6620\n",
      "Epoch 9/30\n",
      "59/59 [==============================] - 14s 244ms/step - loss: 0.6488 - accuracy: 0.7164 - val_loss: 0.7268 - val_accuracy: 0.6781\n",
      "Epoch 10/30\n",
      "59/59 [==============================] - 14s 245ms/step - loss: 0.6209 - accuracy: 0.7295 - val_loss: 0.7205 - val_accuracy: 0.6759\n",
      "Epoch 11/30\n",
      "59/59 [==============================] - 14s 245ms/step - loss: 0.5725 - accuracy: 0.7485 - val_loss: 0.7204 - val_accuracy: 0.6898\n",
      "Epoch 12/30\n",
      "59/59 [==============================] - 14s 242ms/step - loss: 0.5705 - accuracy: 0.7515 - val_loss: 0.7022 - val_accuracy: 0.6824\n",
      "Epoch 13/30\n",
      "59/59 [==============================] - 14s 238ms/step - loss: 0.7731 - accuracy: 0.6629 - val_loss: 0.8789 - val_accuracy: 0.5925\n",
      "Epoch 14/30\n",
      "59/59 [==============================] - 14s 238ms/step - loss: 0.7630 - accuracy: 0.6528 - val_loss: 0.8586 - val_accuracy: 0.5818\n",
      "Epoch 15/30\n",
      "59/59 [==============================] - 14s 243ms/step - loss: 0.7570 - accuracy: 0.6592 - val_loss: 0.7889 - val_accuracy: 0.6299\n",
      "Epoch 16/30\n",
      "59/59 [==============================] - 16s 265ms/step - loss: 0.6939 - accuracy: 0.6854 - val_loss: 0.7841 - val_accuracy: 0.6289\n",
      "Epoch 17/30\n",
      "59/59 [==============================] - 14s 235ms/step - loss: 0.6451 - accuracy: 0.7162 - val_loss: 0.7711 - val_accuracy: 0.6374\n",
      "Epoch 18/30\n",
      "59/59 [==============================] - 14s 238ms/step - loss: 0.7031 - accuracy: 0.6867 - val_loss: 0.8293 - val_accuracy: 0.6235\n",
      "Epoch 19/30\n",
      "59/59 [==============================] - 14s 244ms/step - loss: 0.6803 - accuracy: 0.7071 - val_loss: 0.7217 - val_accuracy: 0.6824\n",
      "Epoch 20/30\n",
      "59/59 [==============================] - 14s 239ms/step - loss: 0.6175 - accuracy: 0.7250 - val_loss: 0.8523 - val_accuracy: 0.6428\n"
     ]
    }
   ],
   "source": [
    "history = srnn_at.fit(X_train, y_train, validation_data=(X_valid, y_valid), batch_size = 64, epochs = 30,callbacks=[early_stopping])"
   ]
  },
  {
   "cell_type": "code",
   "execution_count": 55,
   "metadata": {
    "colab": {
     "base_uri": "https://localhost:8080/",
     "height": 447
    },
    "id": "jJo5Am3VBPi9",
    "outputId": "bc1fa849-cffb-4b8a-d1b3-4db159a8fc3f"
   },
   "outputs": [
    {
     "data": {
      "text/plain": [
       "<matplotlib.legend.Legend at 0x7da1e1cc35b0>"
      ]
     },
     "execution_count": 55,
     "metadata": {},
     "output_type": "execute_result"
    },
    {
     "data": {
      "image/png": "[encoded data removed]",
      "text/plain": [
       "<Figure size 640x480 with 1 Axes>"
      ]
     },
     "metadata": {},
     "output_type": "display_data"
    }
   ],
   "source": [
    "plt.plot(history.history['loss'], label = 'loss')\n",
    "plt.plot(history.history['val_loss'], label = 'val loss')\n",
    "plt.legend()"
   ]
  },
  {
   "cell_type": "code",
   "execution_count": 56,
   "metadata": {
    "colab": {
     "base_uri": "https://localhost:8080/",
     "height": 0
    },
    "id": "5CHjn4rSe0bX",
    "outputId": "bfbecb2b-38d9-4aba-f072-1b24dbdd191f"
   },
   "outputs": [
    {
     "name": "stdout",
     "output_type": "stream",
     "text": [
      "37/37 [==============================] - 1s 23ms/step - loss: 0.6825 - accuracy: 0.6869\n"
     ]
    },
    {
     "data": {
      "text/plain": [
       "[0.682481586933136, 0.6869118809700012]"
      ]
     },
     "execution_count": 56,
     "metadata": {},
     "output_type": "execute_result"
    }
   ],
   "source": [
    "srnn_at.evaluate(X_test, y_test)"
   ]
  },
  {
   "cell_type": "code",
   "execution_count": 57,
   "metadata": {
    "colab": {
     "base_uri": "https://localhost:8080/",
     "height": 586
    },
    "id": "UcipAuC29YVB",
    "outputId": "f7f2edd7-95ca-4ead-84d1-d824650cc7f4"
   },
   "outputs": [
    {
     "name": "stdout",
     "output_type": "stream",
     "text": [
      "37/37 [==============================] - 1s 22ms/step\n",
      "[[ 40  68  64]\n",
      " [ 45 508  73]\n",
      " [ 11 105 255]]\n"
     ]
    },
    {
     "data": {
      "image/png": "[encoded data removed]",
      "text/plain": [
       "<Figure size 1000x700 with 2 Axes>"
      ]
     },
     "metadata": {},
     "output_type": "display_data"
    }
   ],
   "source": [
    "# Obtain predicted labels\n",
    "y_pred = np.argmax(srnn_at.predict(X_test), axis=1)\n",
    "\n",
    "# Compute the confusion matrix\n",
    "cm = confusion_matrix(y_test, y_pred)\n",
    "\n",
    "print(cm)\n",
    "\n",
    "# Plot the confusion matrix\n",
    "plt.figure(figsize=(10, 7))\n",
    "sns.heatmap(cm, annot=True, fmt='d', cmap='Blues', xticklabels=['0', '1','2'], yticklabels=['0','1','2'])\n",
    "plt.xlabel('Predicted Label')\n",
    "plt.ylabel('True Label')\n",
    "plt.title('Confusion Matrix')\n",
    "plt.show()"
   ]
  },
  {
   "cell_type": "code",
   "execution_count": 58,
   "metadata": {
    "colab": {
     "base_uri": "https://localhost:8080/",
     "height": 0
    },
    "id": "ohqPBtnBfjRV",
    "outputId": "c8c7ca01-276e-4711-b999-ee621c52bc07"
   },
   "outputs": [
    {
     "name": "stdout",
     "output_type": "stream",
     "text": [
      "Epoch 1/30\n",
      "59/59 [==============================] - 6s 46ms/step - loss: 1.0236 - accuracy: 0.5342 - val_loss: 0.9956 - val_accuracy: 0.5123\n",
      "Epoch 2/30\n",
      "59/59 [==============================] - 2s 27ms/step - loss: 0.9502 - accuracy: 0.5433 - val_loss: 0.9260 - val_accuracy: 0.5401\n",
      "Epoch 3/30\n",
      "59/59 [==============================] - 2s 28ms/step - loss: 0.8795 - accuracy: 0.5848 - val_loss: 0.8925 - val_accuracy: 0.5914\n",
      "Epoch 4/30\n",
      "59/59 [==============================] - 1s 25ms/step - loss: 0.8678 - accuracy: 0.6199 - val_loss: 0.8749 - val_accuracy: 0.5936\n",
      "Epoch 5/30\n",
      "59/59 [==============================] - 1s 24ms/step - loss: 0.8475 - accuracy: 0.6281 - val_loss: 0.8723 - val_accuracy: 0.5872\n",
      "Epoch 6/30\n",
      "59/59 [==============================] - 1s 23ms/step - loss: 0.8311 - accuracy: 0.6324 - val_loss: 0.8571 - val_accuracy: 0.6000\n",
      "Epoch 7/30\n",
      "59/59 [==============================] - 1s 20ms/step - loss: 0.8178 - accuracy: 0.6375 - val_loss: 0.8804 - val_accuracy: 0.6128\n",
      "Epoch 8/30\n",
      "59/59 [==============================] - 1s 24ms/step - loss: 0.8151 - accuracy: 0.6437 - val_loss: 0.8499 - val_accuracy: 0.6193\n",
      "Epoch 9/30\n",
      "59/59 [==============================] - 1s 23ms/step - loss: 0.7974 - accuracy: 0.6530 - val_loss: 0.8208 - val_accuracy: 0.6439\n",
      "Epoch 10/30\n",
      "59/59 [==============================] - 1s 20ms/step - loss: 0.7883 - accuracy: 0.6512 - val_loss: 0.8638 - val_accuracy: 0.6267\n",
      "Epoch 11/30\n",
      "59/59 [==============================] - 1s 24ms/step - loss: 0.7848 - accuracy: 0.6635 - val_loss: 0.8116 - val_accuracy: 0.6503\n",
      "Epoch 12/30\n",
      "59/59 [==============================] - 2s 27ms/step - loss: 0.7744 - accuracy: 0.6693 - val_loss: 0.8107 - val_accuracy: 0.6503\n",
      "Epoch 13/30\n",
      "59/59 [==============================] - 1s 25ms/step - loss: 0.7532 - accuracy: 0.6803 - val_loss: 0.8281 - val_accuracy: 0.6364\n",
      "Epoch 14/30\n",
      "59/59 [==============================] - 2s 26ms/step - loss: 0.7588 - accuracy: 0.6766 - val_loss: 0.8039 - val_accuracy: 0.6460\n",
      "Epoch 15/30\n",
      "59/59 [==============================] - 1s 20ms/step - loss: 0.7500 - accuracy: 0.6838 - val_loss: 0.8266 - val_accuracy: 0.6364\n",
      "Epoch 16/30\n",
      "59/59 [==============================] - 1s 20ms/step - loss: 0.7646 - accuracy: 0.6822 - val_loss: 0.8400 - val_accuracy: 0.6332\n",
      "Epoch 17/30\n",
      "59/59 [==============================] - 1s 20ms/step - loss: 0.7455 - accuracy: 0.6870 - val_loss: 0.8076 - val_accuracy: 0.6310\n",
      "Epoch 18/30\n",
      "59/59 [==============================] - 1s 20ms/step - loss: 0.7303 - accuracy: 0.6977 - val_loss: 0.8115 - val_accuracy: 0.6578\n",
      "Epoch 19/30\n",
      "59/59 [==============================] - 1s 20ms/step - loss: 0.7244 - accuracy: 0.7001 - val_loss: 0.8057 - val_accuracy: 0.6524\n",
      "Epoch 20/30\n",
      "59/59 [==============================] - 1s 23ms/step - loss: 0.7176 - accuracy: 0.7065 - val_loss: 0.7970 - val_accuracy: 0.6578\n",
      "Epoch 21/30\n",
      "59/59 [==============================] - 1s 20ms/step - loss: 0.7222 - accuracy: 0.6980 - val_loss: 0.8035 - val_accuracy: 0.6503\n",
      "Epoch 22/30\n",
      "59/59 [==============================] - 1s 21ms/step - loss: 0.7060 - accuracy: 0.7089 - val_loss: 0.8427 - val_accuracy: 0.6535\n",
      "Epoch 23/30\n",
      "59/59 [==============================] - 2s 26ms/step - loss: 0.7044 - accuracy: 0.7129 - val_loss: 0.7957 - val_accuracy: 0.6578\n",
      "Epoch 24/30\n",
      "59/59 [==============================] - 1s 24ms/step - loss: 0.6882 - accuracy: 0.7207 - val_loss: 0.7997 - val_accuracy: 0.6556\n",
      "Epoch 25/30\n",
      "59/59 [==============================] - 1s 24ms/step - loss: 0.6923 - accuracy: 0.7159 - val_loss: 0.8282 - val_accuracy: 0.6578\n",
      "Epoch 26/30\n",
      "59/59 [==============================] - 1s 20ms/step - loss: 0.6684 - accuracy: 0.7210 - val_loss: 0.8141 - val_accuracy: 0.6545\n",
      "Epoch 27/30\n",
      "59/59 [==============================] - 1s 20ms/step - loss: 0.6675 - accuracy: 0.7255 - val_loss: 0.8202 - val_accuracy: 0.6652\n",
      "Epoch 28/30\n",
      "59/59 [==============================] - 1s 20ms/step - loss: 0.6710 - accuracy: 0.7279 - val_loss: 0.7970 - val_accuracy: 0.6599\n",
      "Epoch 29/30\n",
      "59/59 [==============================] - 1s 20ms/step - loss: 0.6602 - accuracy: 0.7309 - val_loss: 0.8357 - val_accuracy: 0.6642\n",
      "Epoch 30/30\n",
      "59/59 [==============================] - 1s 20ms/step - loss: 0.6417 - accuracy: 0.7365 - val_loss: 0.8151 - val_accuracy: 0.6610\n"
     ]
    }
   ],
   "source": [
    "history = slstm.fit(X_train, y_train, validation_data=(X_valid, y_valid), batch_size = 64, epochs = 30,callbacks=[early_stopping])"
   ]
  },
  {
   "cell_type": "code",
   "execution_count": 59,
   "metadata": {
    "colab": {
     "base_uri": "https://localhost:8080/",
     "height": 447
    },
    "id": "Xeo2cBKOIhd-",
    "outputId": "8fa06f5a-0bda-4116-fc7c-5bc02de86fed"
   },
   "outputs": [
    {
     "data": {
      "text/plain": [
       "<matplotlib.legend.Legend at 0x7da1e14667a0>"
      ]
     },
     "execution_count": 59,
     "metadata": {},
     "output_type": "execute_result"
    },
    {
     "data": {
      "image/png": "[encoded data removed]",
      "text/plain": [
       "<Figure size 640x480 with 1 Axes>"
      ]
     },
     "metadata": {},
     "output_type": "display_data"
    }
   ],
   "source": [
    "plt.plot(history.history['loss'], label = 'loss')\n",
    "plt.plot(history.history['val_loss'], label = 'val loss')\n",
    "plt.legend()"
   ]
  },
  {
   "cell_type": "code",
   "execution_count": 60,
   "metadata": {
    "colab": {
     "base_uri": "https://localhost:8080/",
     "height": 0
    },
    "id": "VVGs08RdybI5",
    "outputId": "20c0f5d4-b86c-4b4f-fe01-073e85811aca"
   },
   "outputs": [
    {
     "name": "stdout",
     "output_type": "stream",
     "text": [
      "37/37 [==============================] - 0s 10ms/step - loss: 0.8131 - accuracy: 0.6612\n"
     ]
    },
    {
     "data": {
      "text/plain": [
       "[0.8130508065223694, 0.6612489223480225]"
      ]
     },
     "execution_count": 60,
     "metadata": {},
     "output_type": "execute_result"
    }
   ],
   "source": [
    "slstm.evaluate(X_test, y_test)"
   ]
  },
  {
   "cell_type": "code",
   "execution_count": 83,
   "metadata": {
    "colab": {
     "base_uri": "https://localhost:8080/"
    },
    "id": "A4JCWI-WudYa",
    "outputId": "062b50aa-1988-4235-f58f-393141c73b3a"
   },
   "outputs": [
    {
     "name": "stdout",
     "output_type": "stream",
     "text": [
      "Epoch 1/30\n",
      "59/59 [==============================] - 3s 47ms/step - loss: 0.5404 - accuracy: 0.7533 - val_loss: 0.6955 - val_accuracy: 0.7048\n",
      "Epoch 2/30\n",
      "59/59 [==============================] - 2s 27ms/step - loss: 0.5271 - accuracy: 0.7627 - val_loss: 0.7421 - val_accuracy: 0.7005\n",
      "Epoch 3/30\n",
      "59/59 [==============================] - 2s 33ms/step - loss: 0.5160 - accuracy: 0.7702 - val_loss: 0.7472 - val_accuracy: 0.6834\n",
      "Epoch 4/30\n",
      "59/59 [==============================] - 3s 42ms/step - loss: 0.5205 - accuracy: 0.7571 - val_loss: 0.7581 - val_accuracy: 0.6898\n",
      "Epoch 5/30\n",
      "59/59 [==============================] - 2s 31ms/step - loss: 0.5105 - accuracy: 0.7673 - val_loss: 0.7806 - val_accuracy: 0.6781\n",
      "Epoch 6/30\n",
      "59/59 [==============================] - 2s 31ms/step - loss: 0.5013 - accuracy: 0.7718 - val_loss: 0.7255 - val_accuracy: 0.6963\n",
      "Epoch 7/30\n",
      "59/59 [==============================] - 3s 49ms/step - loss: 0.5068 - accuracy: 0.7667 - val_loss: 0.7222 - val_accuracy: 0.6952\n",
      "Epoch 8/30\n",
      "59/59 [==============================] - 2s 41ms/step - loss: 0.4957 - accuracy: 0.7747 - val_loss: 0.7148 - val_accuracy: 0.7091\n",
      "Epoch 9/30\n",
      "59/59 [==============================] - 2s 37ms/step - loss: 0.4796 - accuracy: 0.7830 - val_loss: 0.7142 - val_accuracy: 0.7070\n"
     ]
    }
   ],
   "source": [
    "history = slstm_at.fit(X_train, y_train, validation_data=(X_valid, y_valid), batch_size = 64, epochs = 30,callbacks=[early_stopping])"
   ]
  },
  {
   "cell_type": "code",
   "execution_count": 84,
   "metadata": {
    "colab": {
     "base_uri": "https://localhost:8080/",
     "height": 447
    },
    "id": "fWncZEbsugnc",
    "outputId": "ab386e85-959a-4861-e899-03ce093e0481"
   },
   "outputs": [
    {
     "data": {
      "text/plain": [
       "<matplotlib.legend.Legend at 0x7da368775300>"
      ]
     },
     "execution_count": 84,
     "metadata": {},
     "output_type": "execute_result"
    },
    {
     "data": {
      "image/png": "[encoded data removed]",
      "text/plain": [
       "<Figure size 640x480 with 1 Axes>"
      ]
     },
     "metadata": {},
     "output_type": "display_data"
    }
   ],
   "source": [
    "plt.plot(history.history['loss'], label = 'loss')\n",
    "plt.plot(history.history['val_loss'], label = 'val loss')\n",
    "plt.legend()"
   ]
  },
  {
   "cell_type": "code",
   "execution_count": 85,
   "metadata": {
    "colab": {
     "base_uri": "https://localhost:8080/"
    },
    "id": "WHw3TL2Mw8y5",
    "outputId": "fe352de1-4b15-464f-f345-1ccc1a0643aa"
   },
   "outputs": [
    {
     "name": "stdout",
     "output_type": "stream",
     "text": [
      "37/37 [==============================] - 0s 10ms/step - loss: 0.6853 - accuracy: 0.6989\n"
     ]
    },
    {
     "data": {
      "text/plain": [
       "[0.685264527797699, 0.6988879442214966]"
      ]
     },
     "execution_count": 85,
     "metadata": {},
     "output_type": "execute_result"
    }
   ],
   "source": [
    "slstm_at.evaluate(X_test, y_test)"
   ]
  },
  {
   "cell_type": "code",
   "execution_count": 86,
   "metadata": {
    "colab": {
     "base_uri": "https://localhost:8080/",
     "height": 586
    },
    "id": "bTChGhUrXh5Q",
    "outputId": "2600e37f-6863-4e3d-e947-4b885bb66ce4"
   },
   "outputs": [
    {
     "name": "stdout",
     "output_type": "stream",
     "text": [
      "37/37 [==============================] - 0s 8ms/step\n",
      "[[  0  74  98]\n",
      " [  0 494 132]\n",
      " [  0  92 279]]\n"
     ]
    },
    {
     "data": {
      "image/png": "[encoded data removed]",
      "text/plain": [
       "<Figure size 1000x700 with 2 Axes>"
      ]
     },
     "metadata": {},
     "output_type": "display_data"
    }
   ],
   "source": [
    "#Confusion matrix\n",
    "y_pred = np.argmax(slstm.predict(X_test), axis=1)\n",
    "\n",
    "# Compute the confusion matrix\n",
    "cm = confusion_matrix(y_test, y_pred)\n",
    "\n",
    "print(cm)\n",
    "\n",
    "# Plot the confusion matrix\n",
    "plt.figure(figsize=(10, 7))\n",
    "sns.heatmap(cm, annot=True, fmt='d', cmap='Blues', xticklabels=['0', '1','2'], yticklabels=['0','1','2'])\n",
    "plt.xlabel('Predicted Label')\n",
    "plt.ylabel('True Label')\n",
    "plt.title('Confusion Matrix')\n",
    "plt.show()"
   ]
  },
  {
   "cell_type": "code",
   "execution_count": 87,
   "metadata": {
    "colab": {
     "base_uri": "https://localhost:8080/",
     "height": 534
    },
    "id": "7JZUY49IEtMv",
    "outputId": "93827a65-6814-4655-fde3-4ebaddcec5c3"
   },
   "outputs": [
    {
     "name": "stdout",
     "output_type": "stream",
     "text": [
      "37/37 [==============================] - 0s 9ms/step\n"
     ]
    },
    {
     "data": {
      "image/png": "[encoded data removed]",
      "text/plain": [
       "<Figure size 1000x700 with 2 Axes>"
      ]
     },
     "metadata": {},
     "output_type": "display_data"
    }
   ],
   "source": [
    "#add the confusion matrix and plot here for your lstm_at model\n",
    "y_pred = slstm_at.predict(X_test)\n",
    "y_pred_classes = np.argmax(y_pred, axis=1)\n",
    "\n",
    "# Assuming y_test is already a one-dimensional array of labels, directly use it.\n",
    "# If y_test is one-hot encoded, convert it:\n",
    "# y_true = np.argmax(y_test, axis=1)\n",
    "y_true = y_test  # Use directly if it's not one-hot encoded\n",
    "\n",
    "# Compute the confusion matrix\n",
    "cm = confusion_matrix(y_true, y_pred_classes)\n",
    "\n",
    "# Plot the confusion matrix\n",
    "plt.figure(figsize=(10, 7))\n",
    "sns.heatmap(cm, annot=True, fmt='d', cmap='Blues', xticklabels=['Class 0', 'Class 1', 'Class 2'], yticklabels=['Class 0', 'Class 1', 'Class 2'])\n",
    "plt.xlabel('Predicted Labels')\n",
    "plt.ylabel('True Labels')\n",
    "plt.title('Confusion Matrix for LSTM with Attention Model')\n",
    "plt.show()"
   ]
  },
  {
   "cell_type": "markdown",
   "metadata": {
    "id": "KNpN-ovi2lUC"
   },
   "source": [
    "# Acknowledgement"
   ]
  },
  {
   "cell_type": "markdown",
   "metadata": {
    "id": "b9dJr3ppWAt4"
   },
   "source": [
    "**Acknowledge**\n",
    "\n",
    "https://www.kaggle.com/code/azzamradman/04-dl-nlp-part-1/notebook\n",
    "\n",
    "**dataset citation**\n",
    "\n",
    "Malo, Pekka, et al. \"Good debt or bad debt: Detecting semantic orientations in economic texts.\" Journal of the Association for Information Science and Technology 65.4 (2014): 782-796.\n"
   ]
  }
 ],
 "metadata": {
  "accelerator": "GPU",
  "colab": {
   "collapsed_sections": [
    "KNpN-ovi2lUC"
   ],
   "gpuType": "T4",
   "provenance": []
  },
  "kernelspec": {
   "display_name": "Python 3 (ipykernel)",
   "language": "python",
   "name": "python3"
  },
  "language_info": {
   "codemirror_mode": {
    "name": "ipython",
    "version": 3
   },
   "file_extension": ".py",
   "mimetype": "text/x-python",
   "name": "python",
   "nbconvert_exporter": "python",
   "pygments_lexer": "ipython3",
   "version": "3.11.5"
  },
  "widgets": {
   "application/vnd.jupyter.widget-state+json": {
    "0147e1cfd7384b64926acae6b305bd28": {
     "model_module": "@jupyter-widgets/base",
     "model_module_version": "1.2.0",
     "model_name": "LayoutModel",
     "state": {
      "_model_module": "@jupyter-widgets/base",
      "_model_module_version": "1.2.0",
      "_model_name": "LayoutModel",
      "_view_count": null,
      "_view_module": "@jupyter-widgets/base",
      "_view_module_version": "1.2.0",
      "_view_name": "LayoutView",
      "align_content": null,
      "align_items": null,
      "align_self": null,
      "border": null,
      "bottom": null,
      "display": null,
      "flex": null,
      "flex_flow": null,
      "grid_area": null,
      "grid_auto_columns": null,
      "grid_auto_flow": null,
      "grid_auto_rows": null,
      "grid_column": null,
      "grid_gap": null,
      "grid_row": null,
      "grid_template_areas": null,
      "grid_template_columns": null,
      "grid_template_rows": null,
      "height": null,
      "justify_content": null,
      "justify_items": null,
      "left": null,
      "margin": null,
      "max_height": null,
      "max_width": null,
      "min_height": null,
      "min_width": null,
      "object_fit": null,
      "object_position": null,
      "order": null,
      "overflow": null,
      "overflow_x": null,
      "overflow_y": null,
      "padding": null,
      "right": null,
      "top": null,
      "visibility": null,
      "width": null
     }
    },
    "134b467561fe4051b76b03f525f028f1": {
     "model_module": "@jupyter-widgets/base",
     "model_module_version": "1.2.0",
     "model_name": "LayoutModel",
     "state": {
      "_model_module": "@jupyter-widgets/base",
      "_model_module_version": "1.2.0",
      "_model_name": "LayoutModel",
      "_view_count": null,
      "_view_module": "@jupyter-widgets/base",
      "_view_module_version": "1.2.0",
      "_view_name": "LayoutView",
      "align_content": null,
      "align_items": null,
      "align_self": null,
      "border": null,
      "bottom": null,
      "display": null,
      "flex": null,
      "flex_flow": null,
      "grid_area": null,
      "grid_auto_columns": null,
      "grid_auto_flow": null,
      "grid_auto_rows": null,
      "grid_column": null,
      "grid_gap": null,
      "grid_row": null,
      "grid_template_areas": null,
      "grid_template_columns": null,
      "grid_template_rows": null,
      "height": null,
      "justify_content": null,
      "justify_items": null,
      "left": null,
      "margin": null,
      "max_height": null,
      "max_width": null,
      "min_height": null,
      "min_width": null,
      "object_fit": null,
      "object_position": null,
      "order": null,
      "overflow": null,
      "overflow_x": null,
      "overflow_y": null,
      "padding": null,
      "right": null,
      "top": null,
      "visibility": null,
      "width": null
     }
    },
    "2b415a3d5be347a6b80f3b773ebf60e3": {
     "model_module": "@jupyter-widgets/controls",
     "model_module_version": "1.5.0",
     "model_name": "ProgressStyleModel",
     "state": {
      "_model_module": "@jupyter-widgets/controls",
      "_model_module_version": "1.5.0",
      "_model_name": "ProgressStyleModel",
      "_view_count": null,
      "_view_module": "@jupyter-widgets/base",
      "_view_module_version": "1.2.0",
      "_view_name": "StyleView",
      "bar_color": null,
      "description_width": ""
     }
    },
    "3033da34515e4e7fb614ca43b3b603eb": {
     "model_module": "@jupyter-widgets/controls",
     "model_module_version": "1.5.0",
     "model_name": "HBoxModel",
     "state": {
      "_dom_classes": [],
      "_model_module": "@jupyter-widgets/controls",
      "_model_module_version": "1.5.0",
      "_model_name": "HBoxModel",
      "_view_count": null,
      "_view_module": "@jupyter-widgets/controls",
      "_view_module_version": "1.5.0",
      "_view_name": "HBoxView",
      "box_style": "",
      "children": [
       "IPY_MODEL_7f3232af834041ae87cc47fd60e3d78d",
       "IPY_MODEL_813c11218662443790a3a7bd97f429ec",
       "IPY_MODEL_fe03473f87bc4284ac630fd8dea800da"
      ],
      "layout": "IPY_MODEL_c21f0de8b1294d5abd682791b6e0b851"
     }
    },
    "4550254b59f8429cbecef7b9a1fa1834": {
     "model_module": "@jupyter-widgets/controls",
     "model_module_version": "1.5.0",
     "model_name": "DescriptionStyleModel",
     "state": {
      "_model_module": "@jupyter-widgets/controls",
      "_model_module_version": "1.5.0",
      "_model_name": "DescriptionStyleModel",
      "_view_count": null,
      "_view_module": "@jupyter-widgets/base",
      "_view_module_version": "1.2.0",
      "_view_name": "StyleView",
      "description_width": ""
     }
    },
    "46111831c90e4f6da0fd1cffa80ff193": {
     "model_module": "@jupyter-widgets/controls",
     "model_module_version": "1.5.0",
     "model_name": "DescriptionStyleModel",
     "state": {
      "_model_module": "@jupyter-widgets/controls",
      "_model_module_version": "1.5.0",
      "_model_name": "DescriptionStyleModel",
      "_view_count": null,
      "_view_module": "@jupyter-widgets/base",
      "_view_module_version": "1.2.0",
      "_view_name": "StyleView",
      "description_width": ""
     }
    },
    "67c7b93710894017831f131d3f7f0a57": {
     "model_module": "@jupyter-widgets/base",
     "model_module_version": "1.2.0",
     "model_name": "LayoutModel",
     "state": {
      "_model_module": "@jupyter-widgets/base",
      "_model_module_version": "1.2.0",
      "_model_name": "LayoutModel",
      "_view_count": null,
      "_view_module": "@jupyter-widgets/base",
      "_view_module_version": "1.2.0",
      "_view_name": "LayoutView",
      "align_content": null,
      "align_items": null,
      "align_self": null,
      "border": null,
      "bottom": null,
      "display": null,
      "flex": null,
      "flex_flow": null,
      "grid_area": null,
      "grid_auto_columns": null,
      "grid_auto_flow": null,
      "grid_auto_rows": null,
      "grid_column": null,
      "grid_gap": null,
      "grid_row": null,
      "grid_template_areas": null,
      "grid_template_columns": null,
      "grid_template_rows": null,
      "height": null,
      "justify_content": null,
      "justify_items": null,
      "left": null,
      "margin": null,
      "max_height": null,
      "max_width": null,
      "min_height": null,
      "min_width": null,
      "object_fit": null,
      "object_position": null,
      "order": null,
      "overflow": null,
      "overflow_x": null,
      "overflow_y": null,
      "padding": null,
      "right": null,
      "top": null,
      "visibility": null,
      "width": null
     }
    },
    "7f3232af834041ae87cc47fd60e3d78d": {
     "model_module": "@jupyter-widgets/controls",
     "model_module_version": "1.5.0",
     "model_name": "HTMLModel",
     "state": {
      "_dom_classes": [],
      "_model_module": "@jupyter-widgets/controls",
      "_model_module_version": "1.5.0",
      "_model_name": "HTMLModel",
      "_view_count": null,
      "_view_module": "@jupyter-widgets/controls",
      "_view_module_version": "1.5.0",
      "_view_name": "HTMLView",
      "description": "",
      "description_tooltip": null,
      "layout": "IPY_MODEL_134b467561fe4051b76b03f525f028f1",
      "placeholder": "​",
      "style": "IPY_MODEL_46111831c90e4f6da0fd1cffa80ff193",
      "value": "100%"
     }
    },
    "813c11218662443790a3a7bd97f429ec": {
     "model_module": "@jupyter-widgets/controls",
     "model_module_version": "1.5.0",
     "model_name": "FloatProgressModel",
     "state": {
      "_dom_classes": [],
      "_model_module": "@jupyter-widgets/controls",
      "_model_module_version": "1.5.0",
      "_model_name": "FloatProgressModel",
      "_view_count": null,
      "_view_module": "@jupyter-widgets/controls",
      "_view_module_version": "1.5.0",
      "_view_name": "ProgressView",
      "bar_style": "success",
      "description": "",
      "description_tooltip": null,
      "layout": "IPY_MODEL_0147e1cfd7384b64926acae6b305bd28",
      "max": 400000,
      "min": 0,
      "orientation": "horizontal",
      "style": "IPY_MODEL_2b415a3d5be347a6b80f3b773ebf60e3",
      "value": 400000
     }
    },
    "c21f0de8b1294d5abd682791b6e0b851": {
     "model_module": "@jupyter-widgets/base",
     "model_module_version": "1.2.0",
     "model_name": "LayoutModel",
     "state": {
      "_model_module": "@jupyter-widgets/base",
      "_model_module_version": "1.2.0",
      "_model_name": "LayoutModel",
      "_view_count": null,
      "_view_module": "@jupyter-widgets/base",
      "_view_module_version": "1.2.0",
      "_view_name": "LayoutView",
      "align_content": null,
      "align_items": null,
      "align_self": null,
      "border": null,
      "bottom": null,
      "display": null,
      "flex": null,
      "flex_flow": null,
      "grid_area": null,
      "grid_auto_columns": null,
      "grid_auto_flow": null,
      "grid_auto_rows": null,
      "grid_column": null,
      "grid_gap": null,
      "grid_row": null,
      "grid_template_areas": null,
      "grid_template_columns": null,
      "grid_template_rows": null,
      "height": null,
      "justify_content": null,
      "justify_items": null,
      "left": null,
      "margin": null,
      "max_height": null,
      "max_width": null,
      "min_height": null,
      "min_width": null,
      "object_fit": null,
      "object_position": null,
      "order": null,
      "overflow": null,
      "overflow_x": null,
      "overflow_y": null,
      "padding": null,
      "right": null,
      "top": null,
      "visibility": null,
      "width": null
     }
    },
    "fe03473f87bc4284ac630fd8dea800da": {
     "model_module": "@jupyter-widgets/controls",
     "model_module_version": "1.5.0",
     "model_name": "HTMLModel",
     "state": {
      "_dom_classes": [],
      "_model_module": "@jupyter-widgets/controls",
      "_model_module_version": "1.5.0",
      "_model_name": "HTMLModel",
      "_view_count": null,
      "_view_module": "@jupyter-widgets/controls",
      "_view_module_version": "1.5.0",
      "_view_name": "HTMLView",
      "description": "",
      "description_tooltip": null,
      "layout": "IPY_MODEL_67c7b93710894017831f131d3f7f0a57",
      "placeholder": "​",
      "style": "IPY_MODEL_4550254b59f8429cbecef7b9a1fa1834",
      "value": " 400000/400000 [00:13&lt;00:00, 59234.66it/s]"
     }
    }
   }
  }
 },
 "nbformat": 4,
 "nbformat_minor": 0
}
